{
 "cells": [
  {
   "cell_type": "code",
   "execution_count": null,
   "metadata": {
    "colab": {
     "base_uri": "https://localhost:8080/",
     "height": 204
    },
    "colab_type": "code",
    "id": "4B_RgYnyNpR7",
    "outputId": "987ae66d-fb12-4cdb-b1aa-e4b93fc4bc96"
   },
   "outputs": [],
   "source": [
    "from sklearn.cluster import KMeans\n",
    "import pandas as pd\n",
    "import numpy as np\n",
    "import matplotlib.pyplot as plt\n",
    "\n",
    "# df = pd.read_csv('https://raw.githubusercontent.com/prasanth-ntu/MLDA-Enthuse-V2/master/Part%202%20-%20Intro%20to%20Data%20Science%20and%20Hands-on%20Mini%20Projects/Unsupervised%20Learning/Mall_Customers.csv')\n",
    "df = pd.read_csv('Mall_Customers.csv')\n",
    "df.head()"
   ]
  },
  {
   "cell_type": "code",
   "execution_count": null,
   "metadata": {
    "colab": {
     "base_uri": "https://localhost:8080/",
     "height": 269
    },
    "colab_type": "code",
    "id": "sdlTE1zZNu_k",
    "outputId": "8843408b-91ab-49a2-cac6-451754bc6a37"
   },
   "outputs": [],
   "source": [
    "data = df.iloc[:,[3,4]]\n",
    "X = data.iloc[:,0].values\n",
    "Y = data.iloc[:,1].values\n",
    "plt.scatter(X,Y)\n",
    "plt.show()"
   ]
  },
  {
   "cell_type": "code",
   "execution_count": null,
   "metadata": {
    "colab": {
     "base_uri": "https://localhost:8080/",
     "height": 269
    },
    "colab_type": "code",
    "id": "WncctA9URCyF",
    "outputId": "d0955db8-4cc6-4063-c48f-201c5ed426b5"
   },
   "outputs": [],
   "source": [
    "i=5\n",
    "kmeans = KMeans(n_clusters = i, init = 'k-means++', random_state = 42)\n",
    "features = np.column_stack((X,Y))\n",
    "# kmeans.fit(features)\n",
    "l_kmeans = kmeans.fit_predict(features)\n",
    "print('cluster indices:\\n', l_kmeans)\n",
    "print('cluster centers:\\n', kmeans.cluster_centers_)"
   ]
  },
  {
   "cell_type": "code",
   "execution_count": null,
   "metadata": {},
   "outputs": [],
   "source": [
    "# plot the centroids\n",
    "plt.scatter(kmeans.cluster_centers_[:,0], kmeans.cluster_centers_[:,1], c = 'Yellow', s = 100, label='Centroids')\n",
    "\n",
    "# plot the samples grouped by clusters\n",
    "for i in range(len(kmeans.cluster_centers_)):\n",
    "    plt.scatter(X[l_kmeans==i],Y[l_kmeans==i], label='cluster {}'.format(i))\n",
    "    \n",
    "plt.legend(bbox_to_anchor=(1, 1))\n",
    "plt.show()"
   ]
  },
  {
   "cell_type": "code",
   "execution_count": null,
   "metadata": {
    "colab": {
     "base_uri": "https://localhost:8080/",
     "height": 286
    },
    "colab_type": "code",
    "id": "S_F0SpDtUh35",
    "outputId": "1eaaed11-8af1-4c46-b479-b71fc2fce780"
   },
   "outputs": [],
   "source": [
    "error = []\n",
    "\n",
    "for i in range(1, 11):\n",
    "    kmeans = KMeans(n_clusters = i, init = 'k-means++', random_state = 42)\n",
    "    kmeans.fit(features)\n",
    "    error.append(kmeans.inertia_)\n",
    "plt.plot(range(1,11), error)"
   ]
  },
  {
   "cell_type": "code",
   "execution_count": null,
   "metadata": {
    "colab": {},
    "colab_type": "code",
    "id": "6NwRMBzCVCBl"
   },
   "outputs": [],
   "source": []
  }
 ],
 "metadata": {
  "colab": {
   "collapsed_sections": [],
   "name": "kmeans.ipynb",
   "provenance": [],
   "version": "0.3.2"
  },
  "kernelspec": {
   "display_name": "Python 3",
   "language": "python",
   "name": "python3"
  },
  "language_info": {
   "codemirror_mode": {
    "name": "ipython",
    "version": 3
   },
   "file_extension": ".py",
   "mimetype": "text/x-python",
   "name": "python",
   "nbconvert_exporter": "python",
   "pygments_lexer": "ipython3",
   "version": "3.6.5"
  }
 },
 "nbformat": 4,
 "nbformat_minor": 2
}
