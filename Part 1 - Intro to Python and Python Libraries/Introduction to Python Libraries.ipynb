{
 "cells": [
  {
   "cell_type": "markdown",
   "metadata": {
    "slideshow": {
     "slide_type": "slide"
    }
   },
   "source": [
    "# Part 1: Introduction to Python Libraries"
   ]
  },
  {
   "cell_type": "markdown",
   "metadata": {
    "colab_type": "text",
    "id": "jpqw5i52--Va",
    "slideshow": {
     "slide_type": "slide"
    }
   },
   "source": [
    "# 1. Libraries\n",
    "\n",
    "A standard distribution of Python comes with a [Standard Library](https://docs.python.org/2.7/library/) that provides the basic system functionalities such as file I/O. This is further enhanced by other Python packages developed by the community, which can be found on [Python Package Index (PyPI)](https://pypi.org/) repository. In data science, the 3 most fundamental software packages are:\n",
    "+ Numpy: Efficient manipulation of N-dimensional matrices with linear algebra functions\n",
    "+ Pandas: Provides a slew of data structures and data analysis tools (Excel alternative)\n",
    "+ Matplotlib: 2D plotting library for images, histograms, barcharts"
   ]
  },
  {
   "cell_type": "markdown",
   "metadata": {
    "slideshow": {
     "slide_type": "subslide"
    }
   },
   "source": [
    "## 1.1 Import Libraries"
   ]
  },
  {
   "cell_type": "code",
   "execution_count": 83,
   "metadata": {
    "ExecuteTime": {
     "end_time": "2019-06-06T04:27:19.752279Z",
     "start_time": "2019-06-06T04:27:19.708305Z"
    },
    "colab": {},
    "colab_type": "code",
    "id": "7WzFd1j879TS",
    "slideshow": {
     "slide_type": "fragment"
    }
   },
   "outputs": [],
   "source": [
    "import numpy as np\n",
    "import pandas as pd"
   ]
  },
  {
   "cell_type": "markdown",
   "metadata": {},
   "source": [
    "As a result of doing this, important functions and objects from these libraries will be imported into our workspace and we can call functions with prepended package names like `np.array()`, `pd.DataFrame()`"
   ]
  },
  {
   "cell_type": "markdown",
   "metadata": {
    "slideshow": {
     "slide_type": "slide"
    }
   },
   "source": [
    "# 2. Numpy"
   ]
  },
  {
   "cell_type": "markdown",
   "metadata": {
    "slideshow": {
     "slide_type": "subslide"
    }
   },
   "source": [
    "## 2.1 Matrices and Vectors with Numpy"
   ]
  },
  {
   "cell_type": "markdown",
   "metadata": {},
   "source": [
    "$$\n",
    "\\vec{x} = \\begin{bmatrix}1 \\\\2 \\\\ 3 \\end{bmatrix}\n",
    "$$"
   ]
  },
  {
   "cell_type": "code",
   "execution_count": 84,
   "metadata": {
    "ExecuteTime": {
     "end_time": "2019-06-06T04:27:19.777268Z",
     "start_time": "2019-06-06T04:27:19.757276Z"
    },
    "slideshow": {
     "slide_type": "fragment"
    }
   },
   "outputs": [],
   "source": [
    "vec_x = np.array([[1],[2],[3]])"
   ]
  },
  {
   "cell_type": "code",
   "execution_count": 85,
   "metadata": {
    "ExecuteTime": {
     "end_time": "2019-06-06T04:27:19.818244Z",
     "start_time": "2019-06-06T04:27:19.781264Z"
    }
   },
   "outputs": [
    {
     "data": {
      "text/plain": [
       "array([[1],\n",
       "       [2],\n",
       "       [3]])"
      ]
     },
     "execution_count": 85,
     "metadata": {},
     "output_type": "execute_result"
    }
   ],
   "source": [
    "vec_x"
   ]
  },
  {
   "cell_type": "code",
   "execution_count": 86,
   "metadata": {
    "ExecuteTime": {
     "end_time": "2019-06-06T04:27:19.848224Z",
     "start_time": "2019-06-06T04:27:19.822240Z"
    },
    "slideshow": {
     "slide_type": "fragment"
    }
   },
   "outputs": [
    {
     "data": {
      "text/plain": [
       "(3, 1)"
      ]
     },
     "execution_count": 86,
     "metadata": {},
     "output_type": "execute_result"
    }
   ],
   "source": [
    "vec_x.shape"
   ]
  },
  {
   "cell_type": "markdown",
   "metadata": {
    "slideshow": {
     "slide_type": "subslide"
    }
   },
   "source": [
    "$$\n",
    "\\vec{Y} = \\begin{bmatrix}1 & 2 & 3 \\\\4 & 5 & 6 \\\\ 7 & 8 & 9 \\end{bmatrix}\n",
    "$$"
   ]
  },
  {
   "cell_type": "code",
   "execution_count": 87,
   "metadata": {
    "ExecuteTime": {
     "end_time": "2019-06-06T04:27:19.879207Z",
     "start_time": "2019-06-06T04:27:19.853221Z"
    },
    "slideshow": {
     "slide_type": "fragment"
    }
   },
   "outputs": [],
   "source": [
    "mat_Y = np.array([[1,2,3],\n",
    "                 [4,5,6],\n",
    "                 [7,8,9]])"
   ]
  },
  {
   "cell_type": "code",
   "execution_count": 88,
   "metadata": {
    "ExecuteTime": {
     "end_time": "2019-06-06T04:27:19.908190Z",
     "start_time": "2019-06-06T04:27:19.883205Z"
    }
   },
   "outputs": [
    {
     "data": {
      "text/plain": [
       "array([[1, 2, 3],\n",
       "       [4, 5, 6],\n",
       "       [7, 8, 9]])"
      ]
     },
     "execution_count": 88,
     "metadata": {},
     "output_type": "execute_result"
    }
   ],
   "source": [
    "mat_Y"
   ]
  },
  {
   "cell_type": "code",
   "execution_count": 89,
   "metadata": {
    "ExecuteTime": {
     "end_time": "2019-06-06T04:27:19.936175Z",
     "start_time": "2019-06-06T04:27:19.912189Z"
    }
   },
   "outputs": [
    {
     "data": {
      "text/plain": [
       "(3, 3)"
      ]
     },
     "execution_count": 89,
     "metadata": {},
     "output_type": "execute_result"
    }
   ],
   "source": [
    "mat_Y.shape"
   ]
  },
  {
   "cell_type": "markdown",
   "metadata": {
    "slideshow": {
     "slide_type": "fragment"
    }
   },
   "source": [
    "## 2.2 Operations with Numpy objects"
   ]
  },
  {
   "cell_type": "markdown",
   "metadata": {
    "ExecuteTime": {
     "end_time": "2019-06-06T01:17:52.272589Z",
     "start_time": "2019-06-06T01:17:52.265610Z"
    }
   },
   "source": [
    "**Matrix Multiplication**\n",
    "$$\n",
    "\\vec{Y}*\\vec{x} = \\begin{bmatrix}1 & 2 & 3 \\\\4 & 5 & 6 \\\\ 7 & 8 & 9 \\end{bmatrix} * \\begin{bmatrix}1 \\\\2 \\\\ 3 \\end{bmatrix} =  \\begin{bmatrix}14 \\\\32 \\\\ 50 \\end{bmatrix}\n",
    "$$"
   ]
  },
  {
   "cell_type": "code",
   "execution_count": 90,
   "metadata": {
    "ExecuteTime": {
     "end_time": "2019-06-06T04:27:19.956162Z",
     "start_time": "2019-06-06T04:27:19.939174Z"
    }
   },
   "outputs": [
    {
     "data": {
      "text/plain": [
       "array([[14],\n",
       "       [32],\n",
       "       [50]])"
      ]
     },
     "execution_count": 90,
     "metadata": {},
     "output_type": "execute_result"
    }
   ],
   "source": [
    "np.dot(mat_Y, vec_x) # matrix multiplication"
   ]
  },
  {
   "cell_type": "code",
   "execution_count": 91,
   "metadata": {
    "ExecuteTime": {
     "end_time": "2019-06-06T04:27:19.974153Z",
     "start_time": "2019-06-06T04:27:19.960161Z"
    }
   },
   "outputs": [
    {
     "data": {
      "text/plain": [
       "(3, 1)"
      ]
     },
     "execution_count": 91,
     "metadata": {},
     "output_type": "execute_result"
    }
   ],
   "source": [
    "np.dot(mat_Y, vec_x).shape"
   ]
  },
  {
   "cell_type": "markdown",
   "metadata": {
    "ExecuteTime": {
     "end_time": "2019-06-06T01:20:22.971568Z",
     "start_time": "2019-06-06T01:20:22.963594Z"
    }
   },
   "source": [
    "$$\n",
    "\\vec{x}*\\vec{x}.T = \\begin{bmatrix}1 \\\\2 \\\\ 3 \\end{bmatrix} * \\begin{bmatrix}1 & 2 & 3 \\end{bmatrix} = \\begin{bmatrix}1 & 2 & 3 \\\\2 & 4 & 6 \\\\ 3 & 6 & 9 \\end{bmatrix}\n",
    "$$"
   ]
  },
  {
   "cell_type": "code",
   "execution_count": 92,
   "metadata": {
    "ExecuteTime": {
     "end_time": "2019-06-06T04:27:20.004135Z",
     "start_time": "2019-06-06T04:27:19.978150Z"
    }
   },
   "outputs": [
    {
     "data": {
      "text/plain": [
       "array([[1, 2, 3],\n",
       "       [2, 4, 6],\n",
       "       [3, 6, 9]])"
      ]
     },
     "execution_count": 92,
     "metadata": {},
     "output_type": "execute_result"
    }
   ],
   "source": [
    "np.dot(vec_x, vec_x.transpose())"
   ]
  },
  {
   "cell_type": "code",
   "execution_count": 93,
   "metadata": {
    "ExecuteTime": {
     "end_time": "2019-06-06T04:27:20.034117Z",
     "start_time": "2019-06-06T04:27:20.008133Z"
    }
   },
   "outputs": [
    {
     "data": {
      "text/plain": [
       "(3, 3)"
      ]
     },
     "execution_count": 93,
     "metadata": {},
     "output_type": "execute_result"
    }
   ],
   "source": [
    "np.dot(vec_x, vec_x.transpose()).shape"
   ]
  },
  {
   "cell_type": "markdown",
   "metadata": {
    "ExecuteTime": {
     "end_time": "2019-06-06T01:24:41.071993Z",
     "start_time": "2019-06-06T01:24:41.062995Z"
    }
   },
   "source": [
    "**Element-wise number operators**\n",
    "$$\n",
    "\\vec{x} + 10 = \\begin{bmatrix}1 \\\\2 \\\\ 3 \\end{bmatrix} + 10 = \\begin{bmatrix}11 \\\\12 \\\\ 13 \\end{bmatrix}\n",
    "$$"
   ]
  },
  {
   "cell_type": "code",
   "execution_count": 94,
   "metadata": {
    "ExecuteTime": {
     "end_time": "2019-06-06T04:27:20.065100Z",
     "start_time": "2019-06-06T04:27:20.037115Z"
    },
    "slideshow": {
     "slide_type": "subslide"
    }
   },
   "outputs": [
    {
     "data": {
      "text/plain": [
       "array([[11],\n",
       "       [12],\n",
       "       [13]])"
      ]
     },
     "execution_count": 94,
     "metadata": {},
     "output_type": "execute_result"
    }
   ],
   "source": [
    "vec_x + 10  # element-wise number operations"
   ]
  },
  {
   "cell_type": "markdown",
   "metadata": {
    "ExecuteTime": {
     "end_time": "2019-06-06T01:24:41.071993Z",
     "start_time": "2019-06-06T01:24:41.062995Z"
    }
   },
   "source": [
    "$$\n",
    "(\\vec{Y}) ^ 2 = \\begin{bmatrix}1 & 2 & 3 \\\\4 & 5 & 6 \\\\ 7 & 8 & 9 \\end{bmatrix}^2 = \\begin{bmatrix}1 & 2 & 3 \\\\4 & 5 & 6 \\\\ 7 & 8 & 9 \\end{bmatrix} * \\begin{bmatrix}1 & 2 & 3 \\\\4 & 5 & 6 \\\\ 7 & 8 & 9 \\end{bmatrix} = \\begin{bmatrix}1 & 4 & 9 \\\\16 & 25 & 36 \\\\ 48 & 64 & 81 \\end{bmatrix}\n",
    "$$"
   ]
  },
  {
   "cell_type": "code",
   "execution_count": 95,
   "metadata": {
    "ExecuteTime": {
     "end_time": "2019-06-06T04:27:20.087087Z",
     "start_time": "2019-06-06T04:27:20.071100Z"
    }
   },
   "outputs": [
    {
     "data": {
      "text/plain": [
       "array([[ 1,  4,  9],\n",
       "       [16, 25, 36],\n",
       "       [49, 64, 81]], dtype=int32)"
      ]
     },
     "execution_count": 95,
     "metadata": {},
     "output_type": "execute_result"
    }
   ],
   "source": [
    "mat_Y ** 2"
   ]
  },
  {
   "cell_type": "markdown",
   "metadata": {
    "ExecuteTime": {
     "end_time": "2019-06-06T01:30:37.612504Z",
     "start_time": "2019-06-06T01:30:37.604513Z"
    }
   },
   "source": [
    "**Broadcasting**\n",
    "$$\n",
    "\\vec{Y}+\\vec{x} = \\begin{bmatrix}1 & 2 & 3 \\\\4 & 5 & 6 \\\\ 7 & 8 & 9 \\end{bmatrix} + \\begin{bmatrix}1 \\\\2 \\\\ 3 \\end{bmatrix} =   \\begin{bmatrix}2 & 3 & 4 \\\\6 & 7 & 8 \\\\ 10 & 11 & 12 \\end{bmatrix}\n",
    "$$"
   ]
  },
  {
   "cell_type": "code",
   "execution_count": 96,
   "metadata": {
    "ExecuteTime": {
     "end_time": "2019-06-06T04:27:20.111074Z",
     "start_time": "2019-06-06T04:27:20.091086Z"
    },
    "slideshow": {
     "slide_type": "subslide"
    }
   },
   "outputs": [
    {
     "data": {
      "text/plain": [
       "array([[ 2,  3,  4],\n",
       "       [ 6,  7,  8],\n",
       "       [10, 11, 12]])"
      ]
     },
     "execution_count": 96,
     "metadata": {},
     "output_type": "execute_result"
    }
   ],
   "source": [
    "mat_Y + vec_x  # broadcasting. What happened here?"
   ]
  },
  {
   "cell_type": "code",
   "execution_count": 97,
   "metadata": {
    "ExecuteTime": {
     "end_time": "2019-06-06T04:27:20.131062Z",
     "start_time": "2019-06-06T04:27:20.115071Z"
    }
   },
   "outputs": [
    {
     "data": {
      "text/plain": [
       "(3, 1)"
      ]
     },
     "execution_count": 97,
     "metadata": {},
     "output_type": "execute_result"
    }
   ],
   "source": [
    "vec_x.shape"
   ]
  },
  {
   "cell_type": "markdown",
   "metadata": {
    "slideshow": {
     "slide_type": "slide"
    }
   },
   "source": [
    "# 3. Pandas"
   ]
  },
  {
   "cell_type": "markdown",
   "metadata": {
    "slideshow": {
     "slide_type": "subslide"
    }
   },
   "source": [
    "## 3.1 Import dataset into Pandas DataFrame object"
   ]
  },
  {
   "cell_type": "markdown",
   "metadata": {},
   "source": [
    "**Import Dataset**\n",
    "\n",
    "We are using a subset of passenger data on the tragic ship, Titanic [(link)](https://www.kaggle.com/c/titanic/data) "
   ]
  },
  {
   "cell_type": "code",
   "execution_count": 98,
   "metadata": {
    "ExecuteTime": {
     "end_time": "2019-06-06T04:27:20.863645Z",
     "start_time": "2019-06-06T04:27:20.135060Z"
    },
    "colab": {
     "base_uri": "https://localhost:8080/",
     "height": 34
    },
    "colab_type": "code",
    "id": "O2WDVn_9_aEd",
    "outputId": "8dc2786a-5437-4baf-a036-9c45f1dd4dd9",
    "slideshow": {
     "slide_type": "fragment"
    }
   },
   "outputs": [
    {
     "data": {
      "text/plain": [
       "pandas.core.frame.DataFrame"
      ]
     },
     "execution_count": 98,
     "metadata": {},
     "output_type": "execute_result"
    }
   ],
   "source": [
    "# Read Data from csv file named 'Titanic.csv'\n",
    "# create a Pandas.Dataframe\n",
    "\n",
    "#data = pd.read_csv('data/Titanic.csv')\n",
    "url = 'https://raw.githubusercontent.com/prasanth-ntu/MLDA-Enthuse-V2/master/Part%201%20-%20Intro%20to%20Python%20and%20Python%20Libraries/data/Titanic.csv'\n",
    "data = pd.read_csv(url)    \n",
    "\n",
    "# Inspect the data type\n",
    "type(data)"
   ]
  },
  {
   "cell_type": "markdown",
   "metadata": {
    "slideshow": {
     "slide_type": "subslide"
    }
   },
   "source": [
    "**Preliminary view of data**\n",
    "\n",
    "As a rule of thumb, *columns* store variables whereas *rows* store entries of data"
   ]
  },
  {
   "cell_type": "code",
   "execution_count": 99,
   "metadata": {
    "ExecuteTime": {
     "end_time": "2019-06-06T04:27:20.893625Z",
     "start_time": "2019-06-06T04:27:20.866640Z"
    },
    "colab": {
     "base_uri": "https://localhost:8080/",
     "height": 34
    },
    "colab_type": "code",
    "id": "D-2WPPtBFhl2",
    "outputId": "0f28eb88-920e-4bcd-9281-1c603a022dea"
   },
   "outputs": [
    {
     "data": {
      "text/html": [
       "<div>\n",
       "<style>\n",
       "    .dataframe thead tr:only-child th {\n",
       "        text-align: right;\n",
       "    }\n",
       "\n",
       "    .dataframe thead th {\n",
       "        text-align: left;\n",
       "    }\n",
       "\n",
       "    .dataframe tbody tr th {\n",
       "        vertical-align: top;\n",
       "    }\n",
       "</style>\n",
       "<table border=\"1\" class=\"dataframe\">\n",
       "  <thead>\n",
       "    <tr style=\"text-align: right;\">\n",
       "      <th></th>\n",
       "      <th>Name</th>\n",
       "      <th>PClass</th>\n",
       "      <th>Age</th>\n",
       "      <th>Sex</th>\n",
       "      <th>Survived</th>\n",
       "    </tr>\n",
       "  </thead>\n",
       "  <tbody>\n",
       "    <tr>\n",
       "      <th>0</th>\n",
       "      <td>Allen, Miss Elisabeth Walton</td>\n",
       "      <td>1st</td>\n",
       "      <td>29.00</td>\n",
       "      <td>female</td>\n",
       "      <td>1</td>\n",
       "    </tr>\n",
       "    <tr>\n",
       "      <th>1</th>\n",
       "      <td>Allison, Miss Helen Loraine</td>\n",
       "      <td>1st</td>\n",
       "      <td>2.00</td>\n",
       "      <td>female</td>\n",
       "      <td>0</td>\n",
       "    </tr>\n",
       "    <tr>\n",
       "      <th>2</th>\n",
       "      <td>Allison, Mr Hudson Joshua Creighton</td>\n",
       "      <td>1st</td>\n",
       "      <td>30.00</td>\n",
       "      <td>male</td>\n",
       "      <td>0</td>\n",
       "    </tr>\n",
       "    <tr>\n",
       "      <th>3</th>\n",
       "      <td>Allison, Mrs Hudson JC (Bessie Waldo Daniels)</td>\n",
       "      <td>1st</td>\n",
       "      <td>25.00</td>\n",
       "      <td>female</td>\n",
       "      <td>0</td>\n",
       "    </tr>\n",
       "    <tr>\n",
       "      <th>4</th>\n",
       "      <td>Allison, Master Hudson Trevor</td>\n",
       "      <td>1st</td>\n",
       "      <td>0.92</td>\n",
       "      <td>male</td>\n",
       "      <td>1</td>\n",
       "    </tr>\n",
       "  </tbody>\n",
       "</table>\n",
       "</div>"
      ],
      "text/plain": [
       "                                            Name PClass    Age     Sex  \\\n",
       "0                   Allen, Miss Elisabeth Walton    1st  29.00  female   \n",
       "1                    Allison, Miss Helen Loraine    1st   2.00  female   \n",
       "2            Allison, Mr Hudson Joshua Creighton    1st  30.00    male   \n",
       "3  Allison, Mrs Hudson JC (Bessie Waldo Daniels)    1st  25.00  female   \n",
       "4                  Allison, Master Hudson Trevor    1st   0.92    male   \n",
       "\n",
       "   Survived  \n",
       "0         1  \n",
       "1         0  \n",
       "2         0  \n",
       "3         0  \n",
       "4         1  "
      ]
     },
     "execution_count": 99,
     "metadata": {},
     "output_type": "execute_result"
    }
   ],
   "source": [
    "data.head()"
   ]
  },
  {
   "cell_type": "markdown",
   "metadata": {
    "slideshow": {
     "slide_type": "subslide"
    }
   },
   "source": [
    "## 3.2. Attributes of DataFrames\n",
    "Pandas DataFrames are composed of Index, columns and underlying numpy data\n",
    "<ul>\n",
    "    <li>`index`   : the name of each row</li>\n",
    "    <li>`columns` : the name of each column</li>\n",
    "    <li>`value`   : all the content except index and columns in the DataFrame</li>\n",
    "    <li>`sorting()`: sort data with certain conditions </li>\n",
    "</ul>"
   ]
  },
  {
   "cell_type": "code",
   "execution_count": 100,
   "metadata": {
    "ExecuteTime": {
     "end_time": "2019-06-06T04:27:20.921611Z",
     "start_time": "2019-06-06T04:27:20.897622Z"
    }
   },
   "outputs": [
    {
     "data": {
      "text/plain": [
       "Index(['Name', 'PClass', 'Age', 'Sex', 'Survived'], dtype='object')"
      ]
     },
     "execution_count": 100,
     "metadata": {},
     "output_type": "execute_result"
    }
   ],
   "source": [
    "# get column attribute\n",
    "data.columns"
   ]
  },
  {
   "cell_type": "markdown",
   "metadata": {
    "slideshow": {
     "slide_type": "subslide"
    }
   },
   "source": [
    "**Sorting**"
   ]
  },
  {
   "cell_type": "code",
   "execution_count": 101,
   "metadata": {
    "ExecuteTime": {
     "end_time": "2019-06-06T04:27:20.991573Z",
     "start_time": "2019-06-06T04:27:20.927606Z"
    },
    "scrolled": true
   },
   "outputs": [
    {
     "data": {
      "text/html": [
       "<div>\n",
       "<style>\n",
       "    .dataframe thead tr:only-child th {\n",
       "        text-align: right;\n",
       "    }\n",
       "\n",
       "    .dataframe thead th {\n",
       "        text-align: left;\n",
       "    }\n",
       "\n",
       "    .dataframe tbody tr th {\n",
       "        vertical-align: top;\n",
       "    }\n",
       "</style>\n",
       "<table border=\"1\" class=\"dataframe\">\n",
       "  <thead>\n",
       "    <tr style=\"text-align: right;\">\n",
       "      <th></th>\n",
       "      <th>Name</th>\n",
       "      <th>PClass</th>\n",
       "      <th>Age</th>\n",
       "      <th>Sex</th>\n",
       "      <th>Survived</th>\n",
       "    </tr>\n",
       "  </thead>\n",
       "  <tbody>\n",
       "    <tr>\n",
       "      <th>762</th>\n",
       "      <td>Dean, Miss Elizabeth Gladys (Millvena)</td>\n",
       "      <td>3rd</td>\n",
       "      <td>0.17</td>\n",
       "      <td>female</td>\n",
       "      <td>1</td>\n",
       "    </tr>\n",
       "    <tr>\n",
       "      <th>750</th>\n",
       "      <td>Danbom, Master Gilbert Sigvard Emanuel</td>\n",
       "      <td>3rd</td>\n",
       "      <td>0.33</td>\n",
       "      <td>male</td>\n",
       "      <td>0</td>\n",
       "    </tr>\n",
       "    <tr>\n",
       "      <th>543</th>\n",
       "      <td>Richards, Master George Sidney</td>\n",
       "      <td>2nd</td>\n",
       "      <td>0.80</td>\n",
       "      <td>male</td>\n",
       "      <td>1</td>\n",
       "    </tr>\n",
       "    <tr>\n",
       "      <th>615</th>\n",
       "      <td>Aks, Master Philip</td>\n",
       "      <td>3rd</td>\n",
       "      <td>0.83</td>\n",
       "      <td>male</td>\n",
       "      <td>1</td>\n",
       "    </tr>\n",
       "    <tr>\n",
       "      <th>358</th>\n",
       "      <td>Caldwell, Master Alden Gates</td>\n",
       "      <td>2nd</td>\n",
       "      <td>0.83</td>\n",
       "      <td>male</td>\n",
       "      <td>1</td>\n",
       "    </tr>\n",
       "    <tr>\n",
       "      <th>4</th>\n",
       "      <td>Allison, Master Hudson Trevor</td>\n",
       "      <td>1st</td>\n",
       "      <td>0.92</td>\n",
       "      <td>male</td>\n",
       "      <td>1</td>\n",
       "    </tr>\n",
       "    <tr>\n",
       "      <th>339</th>\n",
       "      <td>Becker, Master Richard F</td>\n",
       "      <td>2nd</td>\n",
       "      <td>1.00</td>\n",
       "      <td>male</td>\n",
       "      <td>1</td>\n",
       "    </tr>\n",
       "    <tr>\n",
       "      <th>477</th>\n",
       "      <td>LaRoche, Miss Louise</td>\n",
       "      <td>2nd</td>\n",
       "      <td>1.00</td>\n",
       "      <td>female</td>\n",
       "      <td>1</td>\n",
       "    </tr>\n",
       "    <tr>\n",
       "      <th>892</th>\n",
       "      <td>Johnson, Miss Eleanor Ileen</td>\n",
       "      <td>3rd</td>\n",
       "      <td>1.00</td>\n",
       "      <td>female</td>\n",
       "      <td>1</td>\n",
       "    </tr>\n",
       "    <tr>\n",
       "      <th>425</th>\n",
       "      <td>Hamalainen, Master Viljo</td>\n",
       "      <td>2nd</td>\n",
       "      <td>1.00</td>\n",
       "      <td>male</td>\n",
       "      <td>1</td>\n",
       "    </tr>\n",
       "    <tr>\n",
       "      <th>761</th>\n",
       "      <td>Dean, Master Bertram Vere</td>\n",
       "      <td>3rd</td>\n",
       "      <td>1.00</td>\n",
       "      <td>male</td>\n",
       "      <td>1</td>\n",
       "    </tr>\n",
       "    <tr>\n",
       "      <th>935</th>\n",
       "      <td>Klasen, Miss Gertrud Emilia</td>\n",
       "      <td>3rd</td>\n",
       "      <td>1.50</td>\n",
       "      <td>female</td>\n",
       "      <td>0</td>\n",
       "    </tr>\n",
       "    <tr>\n",
       "      <th>1187</th>\n",
       "      <td>Sandstrom, Miss Beatrice Irene</td>\n",
       "      <td>3rd</td>\n",
       "      <td>1.50</td>\n",
       "      <td>female</td>\n",
       "      <td>0</td>\n",
       "    </tr>\n",
       "    <tr>\n",
       "      <th>626</th>\n",
       "      <td>Andersson, Miss Ellis Anna Maria</td>\n",
       "      <td>3rd</td>\n",
       "      <td>2.00</td>\n",
       "      <td>female</td>\n",
       "      <td>0</td>\n",
       "    </tr>\n",
       "    <tr>\n",
       "      <th>865</th>\n",
       "      <td>Hirvonen, Miss Hildur E</td>\n",
       "      <td>3rd</td>\n",
       "      <td>2.00</td>\n",
       "      <td>female</td>\n",
       "      <td>0</td>\n",
       "    </tr>\n",
       "    <tr>\n",
       "      <th>511</th>\n",
       "      <td>Navratil, Master Edmond Roger</td>\n",
       "      <td>2nd</td>\n",
       "      <td>2.00</td>\n",
       "      <td>male</td>\n",
       "      <td>1</td>\n",
       "    </tr>\n",
       "    <tr>\n",
       "      <th>1</th>\n",
       "      <td>Allison, Miss Helen Loraine</td>\n",
       "      <td>1st</td>\n",
       "      <td>2.00</td>\n",
       "      <td>female</td>\n",
       "      <td>0</td>\n",
       "    </tr>\n",
       "    <tr>\n",
       "      <th>536</th>\n",
       "      <td>Quick, Miss Phyllis May</td>\n",
       "      <td>2nd</td>\n",
       "      <td>2.00</td>\n",
       "      <td>female</td>\n",
       "      <td>1</td>\n",
       "    </tr>\n",
       "    <tr>\n",
       "      <th>490</th>\n",
       "      <td>Mallet, Master Andre</td>\n",
       "      <td>2nd</td>\n",
       "      <td>2.00</td>\n",
       "      <td>male</td>\n",
       "      <td>1</td>\n",
       "    </tr>\n",
       "    <tr>\n",
       "      <th>584</th>\n",
       "      <td>Wells, Master Ralph Lester</td>\n",
       "      <td>2nd</td>\n",
       "      <td>2.00</td>\n",
       "      <td>male</td>\n",
       "      <td>1</td>\n",
       "    </tr>\n",
       "    <tr>\n",
       "      <th>545</th>\n",
       "      <td>Richards, Master William Rowe</td>\n",
       "      <td>2nd</td>\n",
       "      <td>3.00</td>\n",
       "      <td>male</td>\n",
       "      <td>1</td>\n",
       "    </tr>\n",
       "    <tr>\n",
       "      <th>513</th>\n",
       "      <td>Navratil, Master Michel M</td>\n",
       "      <td>2nd</td>\n",
       "      <td>3.00</td>\n",
       "      <td>male</td>\n",
       "      <td>1</td>\n",
       "    </tr>\n",
       "    <tr>\n",
       "      <th>478</th>\n",
       "      <td>LaRoche, Miss Simonne</td>\n",
       "      <td>2nd</td>\n",
       "      <td>3.00</td>\n",
       "      <td>female</td>\n",
       "      <td>1</td>\n",
       "    </tr>\n",
       "    <tr>\n",
       "      <th>736</th>\n",
       "      <td>Coutts, Master Neville</td>\n",
       "      <td>3rd</td>\n",
       "      <td>3.00</td>\n",
       "      <td>male</td>\n",
       "      <td>1</td>\n",
       "    </tr>\n",
       "    <tr>\n",
       "      <th>643</th>\n",
       "      <td>Aspland, Master Edvin Rojj Felix</td>\n",
       "      <td>3rd</td>\n",
       "      <td>3.00</td>\n",
       "      <td>male</td>\n",
       "      <td>1</td>\n",
       "    </tr>\n",
       "    <tr>\n",
       "      <th>656</th>\n",
       "      <td>Baclini, Miss Eugenie</td>\n",
       "      <td>3rd</td>\n",
       "      <td>3.00</td>\n",
       "      <td>female</td>\n",
       "      <td>1</td>\n",
       "    </tr>\n",
       "    <tr>\n",
       "      <th>338</th>\n",
       "      <td>Becker, Miss Marion Louise</td>\n",
       "      <td>2nd</td>\n",
       "      <td>4.00</td>\n",
       "      <td>female</td>\n",
       "      <td>1</td>\n",
       "    </tr>\n",
       "    <tr>\n",
       "      <th>86</th>\n",
       "      <td>Dodge, Master Washington</td>\n",
       "      <td>1st</td>\n",
       "      <td>4.00</td>\n",
       "      <td>male</td>\n",
       "      <td>1</td>\n",
       "    </tr>\n",
       "    <tr>\n",
       "      <th>932</th>\n",
       "      <td>Kink, Miss Louise Gretchen</td>\n",
       "      <td>3rd</td>\n",
       "      <td>4.00</td>\n",
       "      <td>female</td>\n",
       "      <td>1</td>\n",
       "    </tr>\n",
       "    <tr>\n",
       "      <th>913</th>\n",
       "      <td>Karun, Miss Anna Mary</td>\n",
       "      <td>3rd</td>\n",
       "      <td>4.00</td>\n",
       "      <td>female</td>\n",
       "      <td>1</td>\n",
       "    </tr>\n",
       "    <tr>\n",
       "      <th>...</th>\n",
       "      <td>...</td>\n",
       "      <td>...</td>\n",
       "      <td>...</td>\n",
       "      <td>...</td>\n",
       "      <td>...</td>\n",
       "    </tr>\n",
       "    <tr>\n",
       "      <th>1250</th>\n",
       "      <td>Thorneycroft, Mrs Percival</td>\n",
       "      <td>3rd</td>\n",
       "      <td>NaN</td>\n",
       "      <td>female</td>\n",
       "      <td>1</td>\n",
       "    </tr>\n",
       "    <tr>\n",
       "      <th>1251</th>\n",
       "      <td>Tikkanen, Mr Juho</td>\n",
       "      <td>3rd</td>\n",
       "      <td>NaN</td>\n",
       "      <td>male</td>\n",
       "      <td>0</td>\n",
       "    </tr>\n",
       "    <tr>\n",
       "      <th>1252</th>\n",
       "      <td>Tobin, Mr Roger</td>\n",
       "      <td>3rd</td>\n",
       "      <td>NaN</td>\n",
       "      <td>male</td>\n",
       "      <td>0</td>\n",
       "    </tr>\n",
       "    <tr>\n",
       "      <th>1253</th>\n",
       "      <td>Todoroff, Mr Lalio</td>\n",
       "      <td>3rd</td>\n",
       "      <td>NaN</td>\n",
       "      <td>male</td>\n",
       "      <td>0</td>\n",
       "    </tr>\n",
       "    <tr>\n",
       "      <th>1254</th>\n",
       "      <td>Toerber, Mr Ernest William</td>\n",
       "      <td>3rd</td>\n",
       "      <td>NaN</td>\n",
       "      <td>male</td>\n",
       "      <td>0</td>\n",
       "    </tr>\n",
       "    <tr>\n",
       "      <th>1255</th>\n",
       "      <td>Tomlin, Mr Ernest Portage</td>\n",
       "      <td>3rd</td>\n",
       "      <td>NaN</td>\n",
       "      <td>male</td>\n",
       "      <td>0</td>\n",
       "    </tr>\n",
       "    <tr>\n",
       "      <th>1256</th>\n",
       "      <td>Torfa, Mr Assad</td>\n",
       "      <td>3rd</td>\n",
       "      <td>NaN</td>\n",
       "      <td>male</td>\n",
       "      <td>0</td>\n",
       "    </tr>\n",
       "    <tr>\n",
       "      <th>1258</th>\n",
       "      <td>Touma (Thomas), Mrs Darwin</td>\n",
       "      <td>3rd</td>\n",
       "      <td>NaN</td>\n",
       "      <td>female</td>\n",
       "      <td>0</td>\n",
       "    </tr>\n",
       "    <tr>\n",
       "      <th>1259</th>\n",
       "      <td>Touma (Thomas), Master George</td>\n",
       "      <td>3rd</td>\n",
       "      <td>NaN</td>\n",
       "      <td>male</td>\n",
       "      <td>0</td>\n",
       "    </tr>\n",
       "    <tr>\n",
       "      <th>1260</th>\n",
       "      <td>Touma (Thomas), Miss Hannah</td>\n",
       "      <td>3rd</td>\n",
       "      <td>NaN</td>\n",
       "      <td>female</td>\n",
       "      <td>0</td>\n",
       "    </tr>\n",
       "    <tr>\n",
       "      <th>1261</th>\n",
       "      <td>Turcin, Mr Stefan</td>\n",
       "      <td>3rd</td>\n",
       "      <td>NaN</td>\n",
       "      <td>male</td>\n",
       "      <td>0</td>\n",
       "    </tr>\n",
       "    <tr>\n",
       "      <th>1264</th>\n",
       "      <td>Uzelas, Mr Joso</td>\n",
       "      <td>3rd</td>\n",
       "      <td>NaN</td>\n",
       "      <td>male</td>\n",
       "      <td>0</td>\n",
       "    </tr>\n",
       "    <tr>\n",
       "      <th>1265</th>\n",
       "      <td>Van Billiard, Mr Austin Blyler</td>\n",
       "      <td>3rd</td>\n",
       "      <td>NaN</td>\n",
       "      <td>male</td>\n",
       "      <td>0</td>\n",
       "    </tr>\n",
       "    <tr>\n",
       "      <th>1266</th>\n",
       "      <td>Van Billiard, Master James William</td>\n",
       "      <td>3rd</td>\n",
       "      <td>NaN</td>\n",
       "      <td>male</td>\n",
       "      <td>0</td>\n",
       "    </tr>\n",
       "    <tr>\n",
       "      <th>1267</th>\n",
       "      <td>Van Billiard, Master Walter John</td>\n",
       "      <td>3rd</td>\n",
       "      <td>NaN</td>\n",
       "      <td>male</td>\n",
       "      <td>0</td>\n",
       "    </tr>\n",
       "    <tr>\n",
       "      <th>1279</th>\n",
       "      <td>Vassilios, Mr Catavelas</td>\n",
       "      <td>3rd</td>\n",
       "      <td>NaN</td>\n",
       "      <td>male</td>\n",
       "      <td>0</td>\n",
       "    </tr>\n",
       "    <tr>\n",
       "      <th>1284</th>\n",
       "      <td>Ware, Mr Frederick</td>\n",
       "      <td>3rd</td>\n",
       "      <td>NaN</td>\n",
       "      <td>male</td>\n",
       "      <td>0</td>\n",
       "    </tr>\n",
       "    <tr>\n",
       "      <th>1285</th>\n",
       "      <td>Warren, Mr Charles William</td>\n",
       "      <td>3rd</td>\n",
       "      <td>NaN</td>\n",
       "      <td>male</td>\n",
       "      <td>0</td>\n",
       "    </tr>\n",
       "    <tr>\n",
       "      <th>1286</th>\n",
       "      <td>Wazli, Mr Yousif</td>\n",
       "      <td>3rd</td>\n",
       "      <td>NaN</td>\n",
       "      <td>male</td>\n",
       "      <td>0</td>\n",
       "    </tr>\n",
       "    <tr>\n",
       "      <th>1287</th>\n",
       "      <td>Webber, Mr James</td>\n",
       "      <td>3rd</td>\n",
       "      <td>NaN</td>\n",
       "      <td>male</td>\n",
       "      <td>0</td>\n",
       "    </tr>\n",
       "    <tr>\n",
       "      <th>1288</th>\n",
       "      <td>Wennerstrom, Mr August Edvard</td>\n",
       "      <td>3rd</td>\n",
       "      <td>NaN</td>\n",
       "      <td>male</td>\n",
       "      <td>1</td>\n",
       "    </tr>\n",
       "    <tr>\n",
       "      <th>1289</th>\n",
       "      <td>Wenzel, Mr Linhart</td>\n",
       "      <td>3rd</td>\n",
       "      <td>NaN</td>\n",
       "      <td>male</td>\n",
       "      <td>0</td>\n",
       "    </tr>\n",
       "    <tr>\n",
       "      <th>1293</th>\n",
       "      <td>Willer, Mr Aaron</td>\n",
       "      <td>3rd</td>\n",
       "      <td>NaN</td>\n",
       "      <td>male</td>\n",
       "      <td>0</td>\n",
       "    </tr>\n",
       "    <tr>\n",
       "      <th>1294</th>\n",
       "      <td>Willey, Mr Edward</td>\n",
       "      <td>3rd</td>\n",
       "      <td>NaN</td>\n",
       "      <td>male</td>\n",
       "      <td>0</td>\n",
       "    </tr>\n",
       "    <tr>\n",
       "      <th>1295</th>\n",
       "      <td>Williams, Mr Howard Hugh</td>\n",
       "      <td>3rd</td>\n",
       "      <td>NaN</td>\n",
       "      <td>male</td>\n",
       "      <td>0</td>\n",
       "    </tr>\n",
       "    <tr>\n",
       "      <th>1299</th>\n",
       "      <td>Wiseman, Mr Phillippe</td>\n",
       "      <td>3rd</td>\n",
       "      <td>NaN</td>\n",
       "      <td>male</td>\n",
       "      <td>0</td>\n",
       "    </tr>\n",
       "    <tr>\n",
       "      <th>1301</th>\n",
       "      <td>Yalsevac, Mr Ivan</td>\n",
       "      <td>3rd</td>\n",
       "      <td>NaN</td>\n",
       "      <td>male</td>\n",
       "      <td>1</td>\n",
       "    </tr>\n",
       "    <tr>\n",
       "      <th>1304</th>\n",
       "      <td>Youssef, Mr Gerios</td>\n",
       "      <td>3rd</td>\n",
       "      <td>NaN</td>\n",
       "      <td>male</td>\n",
       "      <td>0</td>\n",
       "    </tr>\n",
       "    <tr>\n",
       "      <th>1305</th>\n",
       "      <td>Zabour, Miss Hileni</td>\n",
       "      <td>3rd</td>\n",
       "      <td>NaN</td>\n",
       "      <td>female</td>\n",
       "      <td>0</td>\n",
       "    </tr>\n",
       "    <tr>\n",
       "      <th>1306</th>\n",
       "      <td>Zabour, Miss Tamini</td>\n",
       "      <td>3rd</td>\n",
       "      <td>NaN</td>\n",
       "      <td>female</td>\n",
       "      <td>0</td>\n",
       "    </tr>\n",
       "  </tbody>\n",
       "</table>\n",
       "<p>1312 rows × 5 columns</p>\n",
       "</div>"
      ],
      "text/plain": [
       "                                        Name PClass   Age     Sex  Survived\n",
       "762   Dean, Miss Elizabeth Gladys (Millvena)    3rd  0.17  female         1\n",
       "750   Danbom, Master Gilbert Sigvard Emanuel    3rd  0.33    male         0\n",
       "543           Richards, Master George Sidney    2nd  0.80    male         1\n",
       "615                       Aks, Master Philip    3rd  0.83    male         1\n",
       "358             Caldwell, Master Alden Gates    2nd  0.83    male         1\n",
       "4              Allison, Master Hudson Trevor    1st  0.92    male         1\n",
       "339                 Becker, Master Richard F    2nd  1.00    male         1\n",
       "477                     LaRoche, Miss Louise    2nd  1.00  female         1\n",
       "892              Johnson, Miss Eleanor Ileen    3rd  1.00  female         1\n",
       "425                 Hamalainen, Master Viljo    2nd  1.00    male         1\n",
       "761                Dean, Master Bertram Vere    3rd  1.00    male         1\n",
       "935              Klasen, Miss Gertrud Emilia    3rd  1.50  female         0\n",
       "1187          Sandstrom, Miss Beatrice Irene    3rd  1.50  female         0\n",
       "626         Andersson, Miss Ellis Anna Maria    3rd  2.00  female         0\n",
       "865                  Hirvonen, Miss Hildur E    3rd  2.00  female         0\n",
       "511            Navratil, Master Edmond Roger    2nd  2.00    male         1\n",
       "1                Allison, Miss Helen Loraine    1st  2.00  female         0\n",
       "536                  Quick, Miss Phyllis May    2nd  2.00  female         1\n",
       "490                     Mallet, Master Andre    2nd  2.00    male         1\n",
       "584               Wells, Master Ralph Lester    2nd  2.00    male         1\n",
       "545            Richards, Master William Rowe    2nd  3.00    male         1\n",
       "513                Navratil, Master Michel M    2nd  3.00    male         1\n",
       "478                    LaRoche, Miss Simonne    2nd  3.00  female         1\n",
       "736                   Coutts, Master Neville    3rd  3.00    male         1\n",
       "643         Aspland, Master Edvin Rojj Felix    3rd  3.00    male         1\n",
       "656                    Baclini, Miss Eugenie    3rd  3.00  female         1\n",
       "338               Becker, Miss Marion Louise    2nd  4.00  female         1\n",
       "86                  Dodge, Master Washington    1st  4.00    male         1\n",
       "932               Kink, Miss Louise Gretchen    3rd  4.00  female         1\n",
       "913                    Karun, Miss Anna Mary    3rd  4.00  female         1\n",
       "...                                      ...    ...   ...     ...       ...\n",
       "1250              Thorneycroft, Mrs Percival    3rd   NaN  female         1\n",
       "1251                       Tikkanen, Mr Juho    3rd   NaN    male         0\n",
       "1252                         Tobin, Mr Roger    3rd   NaN    male         0\n",
       "1253                      Todoroff, Mr Lalio    3rd   NaN    male         0\n",
       "1254              Toerber, Mr Ernest William    3rd   NaN    male         0\n",
       "1255               Tomlin, Mr Ernest Portage    3rd   NaN    male         0\n",
       "1256                         Torfa, Mr Assad    3rd   NaN    male         0\n",
       "1258              Touma (Thomas), Mrs Darwin    3rd   NaN  female         0\n",
       "1259           Touma (Thomas), Master George    3rd   NaN    male         0\n",
       "1260             Touma (Thomas), Miss Hannah    3rd   NaN  female         0\n",
       "1261                       Turcin, Mr Stefan    3rd   NaN    male         0\n",
       "1264                         Uzelas, Mr Joso    3rd   NaN    male         0\n",
       "1265          Van Billiard, Mr Austin Blyler    3rd   NaN    male         0\n",
       "1266      Van Billiard, Master James William    3rd   NaN    male         0\n",
       "1267        Van Billiard, Master Walter John    3rd   NaN    male         0\n",
       "1279                 Vassilios, Mr Catavelas    3rd   NaN    male         0\n",
       "1284                      Ware, Mr Frederick    3rd   NaN    male         0\n",
       "1285              Warren, Mr Charles William    3rd   NaN    male         0\n",
       "1286                        Wazli, Mr Yousif    3rd   NaN    male         0\n",
       "1287                        Webber, Mr James    3rd   NaN    male         0\n",
       "1288           Wennerstrom, Mr August Edvard    3rd   NaN    male         1\n",
       "1289                      Wenzel, Mr Linhart    3rd   NaN    male         0\n",
       "1293                        Willer, Mr Aaron    3rd   NaN    male         0\n",
       "1294                       Willey, Mr Edward    3rd   NaN    male         0\n",
       "1295                Williams, Mr Howard Hugh    3rd   NaN    male         0\n",
       "1299                   Wiseman, Mr Phillippe    3rd   NaN    male         0\n",
       "1301                       Yalsevac, Mr Ivan    3rd   NaN    male         1\n",
       "1304                      Youssef, Mr Gerios    3rd   NaN    male         0\n",
       "1305                     Zabour, Miss Hileni    3rd   NaN  female         0\n",
       "1306                     Zabour, Miss Tamini    3rd   NaN  female         0\n",
       "\n",
       "[1312 rows x 5 columns]"
      ]
     },
     "execution_count": 101,
     "metadata": {},
     "output_type": "execute_result"
    }
   ],
   "source": [
    "# Simple Sorting of data according to a column name, say 'Age', in ascending order\n",
    "data.sort_values(by='Age', ascending=True)"
   ]
  },
  {
   "cell_type": "markdown",
   "metadata": {
    "slideshow": {
     "slide_type": "subslide"
    }
   },
   "source": [
    "**Missing values**\n",
    "\n",
    "Missing values affect our analysis on the data. For convenience, we drop all rows with any form of missing data. In the real world, there are techniques to deal with this issue."
   ]
  },
  {
   "cell_type": "code",
   "execution_count": 102,
   "metadata": {
    "ExecuteTime": {
     "end_time": "2019-06-06T04:27:21.049537Z",
     "start_time": "2019-06-06T04:27:20.995567Z"
    }
   },
   "outputs": [
    {
     "name": "stdout",
     "output_type": "stream",
     "text": [
      "Before dropping NA (1312, 5)\n",
      "After dropping NA (756, 5)\n"
     ]
    }
   ],
   "source": [
    "print (\"Before dropping NA\", data.shape)\n",
    "\n",
    "data = data.dropna()\n",
    "\n",
    "print (\"After dropping NA\", data.shape)"
   ]
  },
  {
   "cell_type": "markdown",
   "metadata": {
    "slideshow": {
     "slide_type": "subslide"
    }
   },
   "source": [
    "## 3.3 Selection of Data\n",
    "\n",
    "To get meaningful insights from the data, we try to **focus** only on a specific region of interest, achieved by extracting a smaller fraction from the big dataset. This is called subsetting. Selecting this subset requires us to select/specify that region via 3 entities, in order of importance: `column`, `row`, `data point`."
   ]
  },
  {
   "cell_type": "markdown",
   "metadata": {
    "slideshow": {
     "slide_type": "subslide"
    }
   },
   "source": [
    "### Row selection by index\n",
    "A more meaningful row selection method is by *'Boolean Masking'*"
   ]
  },
  {
   "cell_type": "code",
   "execution_count": 103,
   "metadata": {
    "ExecuteTime": {
     "end_time": "2019-06-06T04:27:21.073524Z",
     "start_time": "2019-06-06T04:27:21.053533Z"
    }
   },
   "outputs": [
    {
     "data": {
      "text/html": [
       "<div>\n",
       "<style>\n",
       "    .dataframe thead tr:only-child th {\n",
       "        text-align: right;\n",
       "    }\n",
       "\n",
       "    .dataframe thead th {\n",
       "        text-align: left;\n",
       "    }\n",
       "\n",
       "    .dataframe tbody tr th {\n",
       "        vertical-align: top;\n",
       "    }\n",
       "</style>\n",
       "<table border=\"1\" class=\"dataframe\">\n",
       "  <thead>\n",
       "    <tr style=\"text-align: right;\">\n",
       "      <th></th>\n",
       "      <th>Name</th>\n",
       "      <th>PClass</th>\n",
       "      <th>Age</th>\n",
       "      <th>Sex</th>\n",
       "      <th>Survived</th>\n",
       "    </tr>\n",
       "  </thead>\n",
       "  <tbody>\n",
       "    <tr>\n",
       "      <th>0</th>\n",
       "      <td>Allen, Miss Elisabeth Walton</td>\n",
       "      <td>1st</td>\n",
       "      <td>29.0</td>\n",
       "      <td>female</td>\n",
       "      <td>1</td>\n",
       "    </tr>\n",
       "    <tr>\n",
       "      <th>1</th>\n",
       "      <td>Allison, Miss Helen Loraine</td>\n",
       "      <td>1st</td>\n",
       "      <td>2.0</td>\n",
       "      <td>female</td>\n",
       "      <td>0</td>\n",
       "    </tr>\n",
       "    <tr>\n",
       "      <th>2</th>\n",
       "      <td>Allison, Mr Hudson Joshua Creighton</td>\n",
       "      <td>1st</td>\n",
       "      <td>30.0</td>\n",
       "      <td>male</td>\n",
       "      <td>0</td>\n",
       "    </tr>\n",
       "  </tbody>\n",
       "</table>\n",
       "</div>"
      ],
      "text/plain": [
       "                                  Name PClass   Age     Sex  Survived\n",
       "0         Allen, Miss Elisabeth Walton    1st  29.0  female         1\n",
       "1          Allison, Miss Helen Loraine    1st   2.0  female         0\n",
       "2  Allison, Mr Hudson Joshua Creighton    1st  30.0    male         0"
      ]
     },
     "execution_count": 103,
     "metadata": {},
     "output_type": "execute_result"
    }
   ],
   "source": [
    "data[0:3]"
   ]
  },
  {
   "cell_type": "markdown",
   "metadata": {
    "slideshow": {
     "slide_type": "subslide"
    }
   },
   "source": [
    "### Data point selection by position index\n",
    "\n",
    "`.iloc[]` is the primary attribute for selection by absolute position along index and columns.\n",
    "Here 'i' in 'iloc' means 'implicit' indexing"
   ]
  },
  {
   "cell_type": "code",
   "execution_count": 104,
   "metadata": {
    "ExecuteTime": {
     "end_time": "2019-06-06T04:27:21.112500Z",
     "start_time": "2019-06-06T04:27:21.077519Z"
    }
   },
   "outputs": [
    {
     "data": {
      "text/html": [
       "<div>\n",
       "<style>\n",
       "    .dataframe thead tr:only-child th {\n",
       "        text-align: right;\n",
       "    }\n",
       "\n",
       "    .dataframe thead th {\n",
       "        text-align: left;\n",
       "    }\n",
       "\n",
       "    .dataframe tbody tr th {\n",
       "        vertical-align: top;\n",
       "    }\n",
       "</style>\n",
       "<table border=\"1\" class=\"dataframe\">\n",
       "  <thead>\n",
       "    <tr style=\"text-align: right;\">\n",
       "      <th></th>\n",
       "      <th>Name</th>\n",
       "      <th>PClass</th>\n",
       "      <th>Age</th>\n",
       "    </tr>\n",
       "  </thead>\n",
       "  <tbody>\n",
       "    <tr>\n",
       "      <th>2</th>\n",
       "      <td>Allison, Mr Hudson Joshua Creighton</td>\n",
       "      <td>1st</td>\n",
       "      <td>30.00</td>\n",
       "    </tr>\n",
       "    <tr>\n",
       "      <th>3</th>\n",
       "      <td>Allison, Mrs Hudson JC (Bessie Waldo Daniels)</td>\n",
       "      <td>1st</td>\n",
       "      <td>25.00</td>\n",
       "    </tr>\n",
       "    <tr>\n",
       "      <th>4</th>\n",
       "      <td>Allison, Master Hudson Trevor</td>\n",
       "      <td>1st</td>\n",
       "      <td>0.92</td>\n",
       "    </tr>\n",
       "  </tbody>\n",
       "</table>\n",
       "</div>"
      ],
      "text/plain": [
       "                                            Name PClass    Age\n",
       "2            Allison, Mr Hudson Joshua Creighton    1st  30.00\n",
       "3  Allison, Mrs Hudson JC (Bessie Waldo Daniels)    1st  25.00\n",
       "4                  Allison, Master Hudson Trevor    1st   0.92"
      ]
     },
     "execution_count": 104,
     "metadata": {},
     "output_type": "execute_result"
    }
   ],
   "source": [
    "data.iloc[2:5, 0:3]"
   ]
  },
  {
   "cell_type": "markdown",
   "metadata": {},
   "source": [
    "Compare this against the output of `data.head()`. Do you see any resemblance? What happened here?"
   ]
  },
  {
   "cell_type": "markdown",
   "metadata": {
    "slideshow": {
     "slide_type": "subslide"
    }
   },
   "source": [
    "### Column selection"
   ]
  },
  {
   "cell_type": "code",
   "execution_count": 105,
   "metadata": {
    "ExecuteTime": {
     "end_time": "2019-06-06T04:27:21.137484Z",
     "start_time": "2019-06-06T04:27:21.116500Z"
    },
    "scrolled": true
   },
   "outputs": [
    {
     "data": {
      "text/plain": [
       "0                           Allen, Miss Elisabeth Walton\n",
       "1                            Allison, Miss Helen Loraine\n",
       "2                    Allison, Mr Hudson Joshua Creighton\n",
       "3          Allison, Mrs Hudson JC (Bessie Waldo Daniels)\n",
       "4                          Allison, Master Hudson Trevor\n",
       "5                                     Anderson, Mr Harry\n",
       "6                       Andrews, Miss Kornelia Theodosia\n",
       "7                                 Andrews, Mr Thomas, jr\n",
       "8           Appleton, Mrs Edward Dale (Charlotte Lamson)\n",
       "9                                 Artagaveytia, Mr Ramon\n",
       "10                             Astor, Colonel John Jacob\n",
       "11      Astor, Mrs John Jacob (Madeleine Talmadge Force)\n",
       "15        Baxter, Mrs James (Helene DeLaudeniere Chaput)\n",
       "16                               Baxter, Mr Quigg Edmond\n",
       "17                                   Beattie, Mr Thomson\n",
       "18                          Beckwith, Mr Richard Leonard\n",
       "19       Beckwith, Mrs Richard Leonard (Sallie Monypeny)\n",
       "20                                  Behr, Mr Karl Howell\n",
       "21                                    Birnbaum, Mr Jakob\n",
       "22                                Bishop, Mr Dickinson H\n",
       "23                Bishop, Mrs Dickinson H (Helen Walton)\n",
       "24               Bjornstrm-Steffansson, Mr Mauritz Hakan\n",
       "25                           Blackwell, Mr Stephen Weart\n",
       "26                                       Blank, Mr Henry\n",
       "27                                Bonnell, Miss Caroline\n",
       "28                               Bonnell, Miss Elizabeth\n",
       "30                               Bowen, Miss Grace Scott\n",
       "31                            Bowerman, Miss Elsie Edith\n",
       "33                                Brady, Mr John Bertram\n",
       "34                                     Brandeis, Mr Emil\n",
       "                              ...                       \n",
       "1263                                 Turkula, Mrs Hedvig\n",
       "1268                        Van der Planke, Miss Augusta\n",
       "1269                            Van der Planke, Mr Jules\n",
       "1270                           Van der Planke, Mrs Jules\n",
       "1271                             Van der Planke, Mr Leon\n",
       "1272                         Van der Steen, Mr Leo Peter\n",
       "1273                        Van de Velde, Mr John Joseph\n",
       "1274                        Vandewalle, Mr Nestor Cyriel\n",
       "1275                            Van Impe, Miss Catharine\n",
       "1276                          Van Impe, Mr Jean Baptiste\n",
       "1277                         Van Impe, Mrs Jean Baptiste\n",
       "1278                                 Vartunian, Mr David\n",
       "1280                               Vendel, Mr Olof Wdvin\n",
       "1281                               Vereruysse, Mr Victor\n",
       "1282                 Vestrom, Miss Hulda Amanda Adolfina\n",
       "1283                                      Vonk, Mr Jenko\n",
       "1290                          Widegren, Mr Charles Peter\n",
       "1291                            Wiklund, Mr Jacob Alfred\n",
       "1292                                   Wilkes, Mrs Ellen\n",
       "1296                                 Williams, Mr Leslie\n",
       "1297                                  Windelov, Mr Einar\n",
       "1298                                     Wirz, Mr Albert\n",
       "1300                             Wittevrongel, Mr Camiel\n",
       "1302                                  Yasbeck, Mr Antoni\n",
       "1303                                 Yasbeck, Mrs Antoni\n",
       "1307                                  Zakarian, Mr Artun\n",
       "1308                              Zakarian, Mr Maprieder\n",
       "1309                                    Zenni, Mr Philip\n",
       "1310                                    Lievens, Mr Rene\n",
       "1311                                      Zimmerman, Leo\n",
       "Name: Name, Length: 756, dtype: object"
      ]
     },
     "execution_count": 105,
     "metadata": {},
     "output_type": "execute_result"
    }
   ],
   "source": [
    "data['Name']"
   ]
  },
  {
   "cell_type": "markdown",
   "metadata": {
    "slideshow": {
     "slide_type": "slide"
    }
   },
   "source": [
    "# 4. Matplotlib"
   ]
  },
  {
   "cell_type": "code",
   "execution_count": 106,
   "metadata": {
    "ExecuteTime": {
     "end_time": "2019-06-06T04:27:21.176463Z",
     "start_time": "2019-06-06T04:27:21.141483Z"
    },
    "slideshow": {
     "slide_type": "fragment"
    }
   },
   "outputs": [],
   "source": [
    "%matplotlib inline\n",
    "import matplotlib.pyplot as plt"
   ]
  },
  {
   "cell_type": "code",
   "execution_count": 107,
   "metadata": {
    "ExecuteTime": {
     "end_time": "2019-06-06T04:27:21.195452Z",
     "start_time": "2019-06-06T04:27:21.179461Z"
    }
   },
   "outputs": [
    {
     "data": {
      "text/plain": [
       "0     2\n",
       "1     4\n",
       "2     6\n",
       "3     8\n",
       "4    10\n",
       "dtype: int64"
      ]
     },
     "execution_count": 107,
     "metadata": {},
     "output_type": "execute_result"
    }
   ],
   "source": [
    "s1 = pd.Series([2,2,2,2,2])\n",
    "pd.DataFrame.cumsum(s1)"
   ]
  },
  {
   "cell_type": "markdown",
   "metadata": {
    "slideshow": {
     "slide_type": "subslide"
    }
   },
   "source": [
    "## 4.1. Importance of visualizations\n",
    "Suppose we create 1000 random profit values to illustrate net profits of a company in a period of 1000 days"
   ]
  },
  {
   "cell_type": "code",
   "execution_count": 108,
   "metadata": {
    "ExecuteTime": {
     "end_time": "2019-06-06T04:27:21.235430Z",
     "start_time": "2019-06-06T04:27:21.198451Z"
    },
    "slideshow": {
     "slide_type": "fragment"
    }
   },
   "outputs": [
    {
     "name": "stdout",
     "output_type": "stream",
     "text": [
      "2015-01-01    0.681392\n",
      "2015-01-02    0.309636\n",
      "2015-01-03   -0.622706\n",
      "2015-01-04   -1.098108\n",
      "2015-01-05   -0.270941\n",
      "2015-01-06   -0.761619\n",
      "2015-01-07   -0.298246\n",
      "2015-01-08   -0.574872\n",
      "2015-01-09   -2.723468\n",
      "2015-01-10   -2.830814\n",
      "Freq: D, dtype: float64\n"
     ]
    }
   ],
   "source": [
    "# Create a Series\n",
    "s = pd.Series(np.random.randn(1000), index=pd.date_range('1/1/2015', periods=1000))\n",
    "s_cum = s.cumsum()  # cumulative sum\n",
    "print (s_cum.head(10))"
   ]
  },
  {
   "cell_type": "code",
   "execution_count": 109,
   "metadata": {
    "ExecuteTime": {
     "end_time": "2019-06-06T04:27:21.855079Z",
     "start_time": "2019-06-06T04:27:21.239427Z"
    }
   },
   "outputs": [
    {
     "data": {
      "text/plain": [
       "<matplotlib.axes._subplots.AxesSubplot at 0x1a063db24e0>"
      ]
     },
     "execution_count": 109,
     "metadata": {},
     "output_type": "execute_result"
    },
    {
     "data": {
      "image/png": "[encoded data removed]",
      "text/plain": [
       "<matplotlib.figure.Figure at 0x1a063e62160>"
      ]
     },
     "metadata": {},
     "output_type": "display_data"
    }
   ],
   "source": [
    "s.plot()"
   ]
  },
  {
   "cell_type": "markdown",
   "metadata": {
    "slideshow": {
     "slide_type": "subslide"
    }
   },
   "source": [
    "What difference does it make if we create a graphical representation of it?"
   ]
  },
  {
   "cell_type": "code",
   "execution_count": 110,
   "metadata": {
    "ExecuteTime": {
     "end_time": "2019-06-06T04:27:22.175893Z",
     "start_time": "2019-06-06T04:27:21.858072Z"
    },
    "slideshow": {
     "slide_type": "fragment"
    }
   },
   "outputs": [
    {
     "data": {
      "text/plain": [
       "<matplotlib.axes._subplots.AxesSubplot at 0x1a064f21f98>"
      ]
     },
     "execution_count": 110,
     "metadata": {},
     "output_type": "execute_result"
    },
    {
     "data": {
      "image/png": "[encoded data removed]",
      "text/plain": [
       "<matplotlib.figure.Figure at 0x1a064f3ae80>"
      ]
     },
     "metadata": {},
     "output_type": "display_data"
    }
   ],
   "source": [
    "# draw a curve from the defined Series\n",
    "s_cum.plot()"
   ]
  },
  {
   "cell_type": "markdown",
   "metadata": {
    "slideshow": {
     "slide_type": "subslide"
    }
   },
   "source": [
    "## 4.2. Continuous vs Discrete\n",
    "\n",
    "+ Continuous: Age, Length, Area (sqft), pH\n",
    "+ Discrete: LastName, Gender, Country, Postcode\n",
    "\n",
    "**Exercise:** Imagine you are an officer in Singapore Department of Statistics and you are compiling a report about the demography of Singapore. Based on the continuous and discrete variables mentioned in the examples above, what kind of questions will be tickling your mind?"
   ]
  },
  {
   "cell_type": "markdown",
   "metadata": {
    "slideshow": {
     "slide_type": "subslide"
    }
   },
   "source": [
    "## 4.3. 1D plots"
   ]
  },
  {
   "cell_type": "code",
   "execution_count": 111,
   "metadata": {
    "ExecuteTime": {
     "end_time": "2019-06-06T04:27:22.468722Z",
     "start_time": "2019-06-06T04:27:22.179888Z"
    },
    "scrolled": true,
    "slideshow": {
     "slide_type": "fragment"
    }
   },
   "outputs": [
    {
     "data": {
      "text/plain": [
       "<matplotlib.text.Text at 0x1a0650a4160>"
      ]
     },
     "execution_count": 111,
     "metadata": {},
     "output_type": "execute_result"
    },
    {
     "data": {
      "image/png": "[encoded data removed]",
      "text/plain": [
       "<matplotlib.figure.Figure at 0x1a0650468d0>"
      ]
     },
     "metadata": {},
     "output_type": "display_data"
    }
   ],
   "source": [
    "# Create a plot figure (empty canvas)\n",
    "plt.figure()\n",
    "\n",
    "# Construct histogram from continuous data\n",
    "data['Age'].hist(bins=20, color = 'orange')  # <-- try changing these\n",
    "\n",
    "# Labeling the figure\n",
    "plt.xlabel('Age')\n",
    "plt.ylabel('No of passengers [Freq]')\n",
    "plt.title('Age of Titanic Passengers')"
   ]
  },
  {
   "cell_type": "markdown",
   "metadata": {
    "slideshow": {
     "slide_type": "fragment"
    }
   },
   "source": [
    "What inference can you draw from this histogram?"
   ]
  },
  {
   "cell_type": "markdown",
   "metadata": {
    "slideshow": {
     "slide_type": "subslide"
    }
   },
   "source": [
    "## 4.4. 2D plots"
   ]
  },
  {
   "cell_type": "markdown",
   "metadata": {
    "slideshow": {
     "slide_type": "fragment"
    }
   },
   "source": [
    "**Scatter plot**\n",
    "\n",
    "Plot values from two variables along two axes to identify possible relationships between them"
   ]
  },
  {
   "cell_type": "code",
   "execution_count": 112,
   "metadata": {
    "ExecuteTime": {
     "end_time": "2019-06-06T04:27:22.478718Z",
     "start_time": "2019-06-06T04:27:22.471720Z"
    },
    "slideshow": {
     "slide_type": "skip"
    }
   },
   "outputs": [],
   "source": [
    "x = np.arange(5,10,0.05) + 0.5 * np.random.randn(100)\n",
    "y = np.arange(0,10,0.1)  + 0.2 * np.random.randn(100)"
   ]
  },
  {
   "cell_type": "code",
   "execution_count": 113,
   "metadata": {
    "ExecuteTime": {
     "end_time": "2019-06-06T04:27:22.739566Z",
     "start_time": "2019-06-06T04:27:22.483713Z"
    },
    "slideshow": {
     "slide_type": "fragment"
    }
   },
   "outputs": [
    {
     "data": {
      "text/plain": [
       "<matplotlib.text.Text at 0x1a065177f28>"
      ]
     },
     "execution_count": 113,
     "metadata": {},
     "output_type": "execute_result"
    },
    {
     "data": {
      "image/png": "[encoded data removed]",
      "text/plain": [
       "<matplotlib.figure.Figure at 0x1a06504c128>"
      ]
     },
     "metadata": {},
     "output_type": "display_data"
    }
   ],
   "source": [
    "plt.figure()\n",
    "plt.scatter(x = x,y = y)\n",
    "plt.xlabel('x'); plt.ylabel('y')"
   ]
  }
 ],
 "metadata": {
  "colab": {
   "name": "basic_python.ipynb",
   "provenance": [],
   "toc_visible": true,
   "version": "0.3.2"
  },
  "kernelspec": {
   "display_name": "Python3",
   "language": "python",
   "name": "python3"
  },
  "language_info": {
   "codemirror_mode": {
    "name": "ipython",
    "version": 3
   },
   "file_extension": ".py",
   "mimetype": "text/x-python",
   "name": "python",
   "nbconvert_exporter": "python",
   "pygments_lexer": "ipython3",
   "version": "3.6.8"
  },
  "toc": {
   "base_numbering": 1,
   "nav_menu": {},
   "number_sections": true,
   "sideBar": true,
   "skip_h1_title": false,
   "title_cell": "Table of Contents",
   "title_sidebar": "Contents",
   "toc_cell": false,
   "toc_position": {
    "height": "calc(100% - 180px)",
    "left": "10px",
    "top": "150px",
    "width": "248px"
   },
   "toc_section_display": true,
   "toc_window_display": true
  }
 },
 "nbformat": 4,
 "nbformat_minor": 1
}
