{
 "cells": [
  {
   "cell_type": "markdown",
   "metadata": {
    "slideshow": {
     "slide_type": "slide"
    }
   },
   "source": [
    "# Part 1: Introduction to Python Libraries"
   ]
  },
  {
   "cell_type": "markdown",
   "metadata": {
    "colab_type": "text",
    "id": "jpqw5i52--Va",
    "slideshow": {
     "slide_type": "slide"
    }
   },
   "source": [
    "# 1. Libraries\n",
    "\n",
    "A standard distribution of Python comes with a [Standard Library](https://docs.python.org/2.7/library/) that provides the basic system functionalities such as file I/O. This is further enhanced by other Python packages developed by the community, which can be found on [Python Package Index (PyPI)](https://pypi.org/) repository. In data science, the 3 most fundamental software packages are:\n",
    "+ Numpy: Efficient manipulation of N-dimensional matrices with linear algebra functions\n",
    "+ Pandas: Provides a slew of data structures and data analysis tools (Excel alternative)\n",
    "+ Matplotlib: 2D plotting library for images, histograms, barcharts"
   ]
  },
  {
   "cell_type": "markdown",
   "metadata": {
    "slideshow": {
     "slide_type": "subslide"
    }
   },
   "source": [
    "## 1.1 Import Libraries"
   ]
  },
  {
   "cell_type": "code",
   "execution_count": 1,
   "metadata": {
    "ExecuteTime": {
     "end_time": "2019-06-02T17:42:07.692541Z",
     "start_time": "2019-06-02T17:42:06.222141Z"
    },
    "colab": {},
    "colab_type": "code",
    "id": "7WzFd1j879TS",
    "slideshow": {
     "slide_type": "fragment"
    }
   },
   "outputs": [],
   "source": [
    "import numpy as np\n",
    "import pandas as pd"
   ]
  },
  {
   "cell_type": "markdown",
   "metadata": {},
   "source": [
    "As a result of doing this, important functions and objects from these libraries will be imported into our workspace and we can call functions with prepended package names like `np.array()`, `pd.DataFrame()`"
   ]
  },
  {
   "cell_type": "markdown",
   "metadata": {
    "slideshow": {
     "slide_type": "slide"
    }
   },
   "source": [
    "# 2. Numpy"
   ]
  },
  {
   "cell_type": "markdown",
   "metadata": {
    "slideshow": {
     "slide_type": "subslide"
    }
   },
   "source": [
    "## 2.1 Matrices and Vectors with Numpy"
   ]
  },
  {
   "cell_type": "markdown",
   "metadata": {},
   "source": [
    "$$\n",
    "\\vec{x} = \\begin{bmatrix}1 \\\\2 \\\\ 3 \\end{bmatrix}\n",
    "$$"
   ]
  },
  {
   "cell_type": "code",
   "execution_count": 2,
   "metadata": {
    "ExecuteTime": {
     "end_time": "2019-06-02T17:42:07.704533Z",
     "start_time": "2019-06-02T17:42:07.695538Z"
    },
    "slideshow": {
     "slide_type": "fragment"
    }
   },
   "outputs": [],
   "source": [
    "vec_x = np.array([[1],[2],[3]])"
   ]
  },
  {
   "cell_type": "code",
   "execution_count": 3,
   "metadata": {
    "ExecuteTime": {
     "end_time": "2019-06-02T17:42:07.742513Z",
     "start_time": "2019-06-02T17:42:07.707531Z"
    },
    "slideshow": {
     "slide_type": "fragment"
    }
   },
   "outputs": [
    {
     "data": {
      "text/plain": [
       "(3, 1)"
      ]
     },
     "execution_count": 3,
     "metadata": {},
     "output_type": "execute_result"
    }
   ],
   "source": [
    "vec_x.shape"
   ]
  },
  {
   "cell_type": "markdown",
   "metadata": {
    "slideshow": {
     "slide_type": "subslide"
    }
   },
   "source": [
    "$$\n",
    "\\vec{Y} = \\begin{bmatrix}1 & 2 & 3 \\\\4 & 5 & 6 \\\\ 7 & 8 & 9 \\end{bmatrix}\n",
    "$$"
   ]
  },
  {
   "cell_type": "code",
   "execution_count": 4,
   "metadata": {
    "ExecuteTime": {
     "end_time": "2019-06-02T17:42:07.784487Z",
     "start_time": "2019-06-02T17:42:07.747507Z"
    },
    "slideshow": {
     "slide_type": "fragment"
    }
   },
   "outputs": [],
   "source": [
    "mat_Y = np.array([[1,2,3],\n",
    "                 [4,5,6],\n",
    "                 [7,8,9]])"
   ]
  },
  {
   "cell_type": "code",
   "execution_count": 5,
   "metadata": {
    "ExecuteTime": {
     "end_time": "2019-06-02T17:42:07.814472Z",
     "start_time": "2019-06-02T17:42:07.793482Z"
    }
   },
   "outputs": [
    {
     "data": {
      "text/plain": [
       "array([[1, 2, 3],\n",
       "       [4, 5, 6],\n",
       "       [7, 8, 9]])"
      ]
     },
     "execution_count": 5,
     "metadata": {},
     "output_type": "execute_result"
    }
   ],
   "source": [
    "mat_Y"
   ]
  },
  {
   "cell_type": "markdown",
   "metadata": {
    "slideshow": {
     "slide_type": "fragment"
    }
   },
   "source": [
    "## 2.2 Operations with Numpy objects"
   ]
  },
  {
   "cell_type": "code",
   "execution_count": 6,
   "metadata": {
    "ExecuteTime": {
     "end_time": "2019-06-02T17:42:07.849449Z",
     "start_time": "2019-06-02T17:42:07.819467Z"
    }
   },
   "outputs": [
    {
     "data": {
      "text/plain": [
       "array([[14],\n",
       "       [32],\n",
       "       [50]])"
      ]
     },
     "execution_count": 6,
     "metadata": {},
     "output_type": "execute_result"
    }
   ],
   "source": [
    "np.dot(mat_Y, vec_x) # matrix multiplication"
   ]
  },
  {
   "cell_type": "code",
   "execution_count": 7,
   "metadata": {
    "ExecuteTime": {
     "end_time": "2019-06-02T17:42:07.877434Z",
     "start_time": "2019-06-02T17:42:07.854446Z"
    }
   },
   "outputs": [
    {
     "data": {
      "text/plain": [
       "array([[1, 2, 3],\n",
       "       [2, 4, 6],\n",
       "       [3, 6, 9]])"
      ]
     },
     "execution_count": 7,
     "metadata": {},
     "output_type": "execute_result"
    }
   ],
   "source": [
    "np.dot(vec_x, vec_x.transpose())"
   ]
  },
  {
   "cell_type": "code",
   "execution_count": 8,
   "metadata": {
    "ExecuteTime": {
     "end_time": "2019-06-02T17:42:07.906420Z",
     "start_time": "2019-06-02T17:42:07.882435Z"
    },
    "slideshow": {
     "slide_type": "subslide"
    }
   },
   "outputs": [
    {
     "data": {
      "text/plain": [
       "array([[11],\n",
       "       [12],\n",
       "       [13]])"
      ]
     },
     "execution_count": 8,
     "metadata": {},
     "output_type": "execute_result"
    }
   ],
   "source": [
    "vec_x + 10  # element-wise number operations"
   ]
  },
  {
   "cell_type": "code",
   "execution_count": 9,
   "metadata": {
    "ExecuteTime": {
     "end_time": "2019-06-02T17:42:07.942401Z",
     "start_time": "2019-06-02T17:42:07.913413Z"
    }
   },
   "outputs": [
    {
     "data": {
      "text/plain": [
       "array([[ 1,  4,  9],\n",
       "       [16, 25, 36],\n",
       "       [49, 64, 81]], dtype=int32)"
      ]
     },
     "execution_count": 9,
     "metadata": {},
     "output_type": "execute_result"
    }
   ],
   "source": [
    "mat_Y ** 2"
   ]
  },
  {
   "cell_type": "code",
   "execution_count": 10,
   "metadata": {
    "ExecuteTime": {
     "end_time": "2019-06-02T17:42:07.968629Z",
     "start_time": "2019-06-02T17:42:07.948393Z"
    },
    "slideshow": {
     "slide_type": "subslide"
    }
   },
   "outputs": [
    {
     "data": {
      "text/plain": [
       "array([[ 2,  3,  4],\n",
       "       [ 6,  7,  8],\n",
       "       [10, 11, 12]])"
      ]
     },
     "execution_count": 10,
     "metadata": {},
     "output_type": "execute_result"
    }
   ],
   "source": [
    "mat_Y + vec_x  # broadcasting. What happened here?"
   ]
  },
  {
   "cell_type": "code",
   "execution_count": 11,
   "metadata": {
    "ExecuteTime": {
     "end_time": "2019-06-02T17:42:07.992621Z",
     "start_time": "2019-06-02T17:42:07.975626Z"
    }
   },
   "outputs": [
    {
     "data": {
      "text/plain": [
       "(3, 1)"
      ]
     },
     "execution_count": 11,
     "metadata": {},
     "output_type": "execute_result"
    }
   ],
   "source": [
    "vec_x.shape"
   ]
  },
  {
   "cell_type": "markdown",
   "metadata": {
    "slideshow": {
     "slide_type": "slide"
    }
   },
   "source": [
    "# 3. Pandas"
   ]
  },
  {
   "cell_type": "markdown",
   "metadata": {
    "slideshow": {
     "slide_type": "subslide"
    }
   },
   "source": [
    "## 3.1 Import dataset into Pandas DataFrame object"
   ]
  },
  {
   "cell_type": "markdown",
   "metadata": {},
   "source": [
    "**Import Dataset**\n",
    "\n",
    "We are using a subset of passenger data on the tragic ship, Titanic [(link)](https://www.kaggle.com/c/titanic/data) "
   ]
  },
  {
   "cell_type": "code",
   "execution_count": 13,
   "metadata": {
    "ExecuteTime": {
     "end_time": "2019-06-02T17:44:43.475251Z",
     "start_time": "2019-06-02T17:44:43.432274Z"
    },
    "colab": {
     "base_uri": "https://localhost:8080/",
     "height": 34
    },
    "colab_type": "code",
    "id": "O2WDVn_9_aEd",
    "outputId": "8dc2786a-5437-4baf-a036-9c45f1dd4dd9",
    "slideshow": {
     "slide_type": "fragment"
    }
   },
   "outputs": [
    {
     "data": {
      "text/plain": [
       "pandas.core.frame.DataFrame"
      ]
     },
     "execution_count": 13,
     "metadata": {},
     "output_type": "execute_result"
    }
   ],
   "source": [
    "# Read Data from csv file named 'Titanic.csv'\n",
    "# create a Pandas.Dataframe\n",
    "data = pd.read_csv('data/Titanic.csv')\n",
    "\n",
    "# Inspect the data type\n",
    "type(data)"
   ]
  },
  {
   "cell_type": "markdown",
   "metadata": {
    "slideshow": {
     "slide_type": "subslide"
    }
   },
   "source": [
    "**Preliminary view of data**\n",
    "\n",
    "As a rule of thumb, *columns* store variables whereas *rows* store entries of data"
   ]
  },
  {
   "cell_type": "code",
   "execution_count": 14,
   "metadata": {
    "ExecuteTime": {
     "end_time": "2019-06-02T17:44:44.666116Z",
     "start_time": "2019-06-02T17:44:44.616144Z"
    },
    "colab": {
     "base_uri": "https://localhost:8080/",
     "height": 34
    },
    "colab_type": "code",
    "id": "D-2WPPtBFhl2",
    "outputId": "0f28eb88-920e-4bcd-9281-1c603a022dea"
   },
   "outputs": [
    {
     "data": {
      "text/html": [
       "<div>\n",
       "<style>\n",
       "    .dataframe thead tr:only-child th {\n",
       "        text-align: right;\n",
       "    }\n",
       "\n",
       "    .dataframe thead th {\n",
       "        text-align: left;\n",
       "    }\n",
       "\n",
       "    .dataframe tbody tr th {\n",
       "        vertical-align: top;\n",
       "    }\n",
       "</style>\n",
       "<table border=\"1\" class=\"dataframe\">\n",
       "  <thead>\n",
       "    <tr style=\"text-align: right;\">\n",
       "      <th></th>\n",
       "      <th>Name</th>\n",
       "      <th>PClass</th>\n",
       "      <th>Age</th>\n",
       "      <th>Sex</th>\n",
       "      <th>Survived</th>\n",
       "    </tr>\n",
       "  </thead>\n",
       "  <tbody>\n",
       "    <tr>\n",
       "      <th>0</th>\n",
       "      <td>Allen, Miss Elisabeth Walton</td>\n",
       "      <td>1st</td>\n",
       "      <td>29.00</td>\n",
       "      <td>female</td>\n",
       "      <td>1</td>\n",
       "    </tr>\n",
       "    <tr>\n",
       "      <th>1</th>\n",
       "      <td>Allison, Miss Helen Loraine</td>\n",
       "      <td>1st</td>\n",
       "      <td>2.00</td>\n",
       "      <td>female</td>\n",
       "      <td>0</td>\n",
       "    </tr>\n",
       "    <tr>\n",
       "      <th>2</th>\n",
       "      <td>Allison, Mr Hudson Joshua Creighton</td>\n",
       "      <td>1st</td>\n",
       "      <td>30.00</td>\n",
       "      <td>male</td>\n",
       "      <td>0</td>\n",
       "    </tr>\n",
       "    <tr>\n",
       "      <th>3</th>\n",
       "      <td>Allison, Mrs Hudson JC (Bessie Waldo Daniels)</td>\n",
       "      <td>1st</td>\n",
       "      <td>25.00</td>\n",
       "      <td>female</td>\n",
       "      <td>0</td>\n",
       "    </tr>\n",
       "    <tr>\n",
       "      <th>4</th>\n",
       "      <td>Allison, Master Hudson Trevor</td>\n",
       "      <td>1st</td>\n",
       "      <td>0.92</td>\n",
       "      <td>male</td>\n",
       "      <td>1</td>\n",
       "    </tr>\n",
       "  </tbody>\n",
       "</table>\n",
       "</div>"
      ],
      "text/plain": [
       "                                            Name PClass    Age     Sex  \\\n",
       "0                   Allen, Miss Elisabeth Walton    1st  29.00  female   \n",
       "1                    Allison, Miss Helen Loraine    1st   2.00  female   \n",
       "2            Allison, Mr Hudson Joshua Creighton    1st  30.00    male   \n",
       "3  Allison, Mrs Hudson JC (Bessie Waldo Daniels)    1st  25.00  female   \n",
       "4                  Allison, Master Hudson Trevor    1st   0.92    male   \n",
       "\n",
       "   Survived  \n",
       "0         1  \n",
       "1         0  \n",
       "2         0  \n",
       "3         0  \n",
       "4         1  "
      ]
     },
     "execution_count": 14,
     "metadata": {},
     "output_type": "execute_result"
    }
   ],
   "source": [
    "data.head()"
   ]
  },
  {
   "cell_type": "markdown",
   "metadata": {
    "slideshow": {
     "slide_type": "subslide"
    }
   },
   "source": [
    "## 3.2. Attributes of DataFrames\n",
    "Pandas DataFrames are composed of Index, columns and underlying numpy data\n",
    "<ul>\n",
    "    <li>`index`   : the name of each row</li>\n",
    "    <li>`columns` : the name of each column</li>\n",
    "    <li>`value`   : all the content except index and columns in the DataFrame</li>\n",
    "    <li>`sorting()`: sort data with certain conditions </li>\n",
    "</ul>"
   ]
  },
  {
   "cell_type": "code",
   "execution_count": 15,
   "metadata": {
    "ExecuteTime": {
     "end_time": "2019-06-02T17:44:46.115576Z",
     "start_time": "2019-06-02T17:44:46.106581Z"
    }
   },
   "outputs": [
    {
     "data": {
      "text/plain": [
       "Index(['Name', 'PClass', 'Age', 'Sex', 'Survived'], dtype='object')"
      ]
     },
     "execution_count": 15,
     "metadata": {},
     "output_type": "execute_result"
    }
   ],
   "source": [
    "# get column attribute\n",
    "data.columns"
   ]
  },
  {
   "cell_type": "markdown",
   "metadata": {
    "slideshow": {
     "slide_type": "subslide"
    }
   },
   "source": [
    "**Sorting**"
   ]
  },
  {
   "cell_type": "code",
   "execution_count": 16,
   "metadata": {
    "ExecuteTime": {
     "end_time": "2019-06-02T17:44:46.875663Z",
     "start_time": "2019-06-02T17:44:46.820027Z"
    }
   },
   "outputs": [
    {
     "data": {
      "text/html": [
       "<div>\n",
       "<style>\n",
       "    .dataframe thead tr:only-child th {\n",
       "        text-align: right;\n",
       "    }\n",
       "\n",
       "    .dataframe thead th {\n",
       "        text-align: left;\n",
       "    }\n",
       "\n",
       "    .dataframe tbody tr th {\n",
       "        vertical-align: top;\n",
       "    }\n",
       "</style>\n",
       "<table border=\"1\" class=\"dataframe\">\n",
       "  <thead>\n",
       "    <tr style=\"text-align: right;\">\n",
       "      <th></th>\n",
       "      <th>Name</th>\n",
       "      <th>PClass</th>\n",
       "      <th>Age</th>\n",
       "      <th>Sex</th>\n",
       "      <th>Survived</th>\n",
       "    </tr>\n",
       "  </thead>\n",
       "  <tbody>\n",
       "    <tr>\n",
       "      <th>762</th>\n",
       "      <td>Dean, Miss Elizabeth Gladys (Millvena)</td>\n",
       "      <td>3rd</td>\n",
       "      <td>0.17</td>\n",
       "      <td>female</td>\n",
       "      <td>1</td>\n",
       "    </tr>\n",
       "    <tr>\n",
       "      <th>750</th>\n",
       "      <td>Danbom, Master Gilbert Sigvard Emanuel</td>\n",
       "      <td>3rd</td>\n",
       "      <td>0.33</td>\n",
       "      <td>male</td>\n",
       "      <td>0</td>\n",
       "    </tr>\n",
       "    <tr>\n",
       "      <th>543</th>\n",
       "      <td>Richards, Master George Sidney</td>\n",
       "      <td>2nd</td>\n",
       "      <td>0.80</td>\n",
       "      <td>male</td>\n",
       "      <td>1</td>\n",
       "    </tr>\n",
       "    <tr>\n",
       "      <th>615</th>\n",
       "      <td>Aks, Master Philip</td>\n",
       "      <td>3rd</td>\n",
       "      <td>0.83</td>\n",
       "      <td>male</td>\n",
       "      <td>1</td>\n",
       "    </tr>\n",
       "    <tr>\n",
       "      <th>358</th>\n",
       "      <td>Caldwell, Master Alden Gates</td>\n",
       "      <td>2nd</td>\n",
       "      <td>0.83</td>\n",
       "      <td>male</td>\n",
       "      <td>1</td>\n",
       "    </tr>\n",
       "    <tr>\n",
       "      <th>4</th>\n",
       "      <td>Allison, Master Hudson Trevor</td>\n",
       "      <td>1st</td>\n",
       "      <td>0.92</td>\n",
       "      <td>male</td>\n",
       "      <td>1</td>\n",
       "    </tr>\n",
       "    <tr>\n",
       "      <th>339</th>\n",
       "      <td>Becker, Master Richard F</td>\n",
       "      <td>2nd</td>\n",
       "      <td>1.00</td>\n",
       "      <td>male</td>\n",
       "      <td>1</td>\n",
       "    </tr>\n",
       "    <tr>\n",
       "      <th>477</th>\n",
       "      <td>LaRoche, Miss Louise</td>\n",
       "      <td>2nd</td>\n",
       "      <td>1.00</td>\n",
       "      <td>female</td>\n",
       "      <td>1</td>\n",
       "    </tr>\n",
       "    <tr>\n",
       "      <th>892</th>\n",
       "      <td>Johnson, Miss Eleanor Ileen</td>\n",
       "      <td>3rd</td>\n",
       "      <td>1.00</td>\n",
       "      <td>female</td>\n",
       "      <td>1</td>\n",
       "    </tr>\n",
       "    <tr>\n",
       "      <th>425</th>\n",
       "      <td>Hamalainen, Master Viljo</td>\n",
       "      <td>2nd</td>\n",
       "      <td>1.00</td>\n",
       "      <td>male</td>\n",
       "      <td>1</td>\n",
       "    </tr>\n",
       "    <tr>\n",
       "      <th>761</th>\n",
       "      <td>Dean, Master Bertram Vere</td>\n",
       "      <td>3rd</td>\n",
       "      <td>1.00</td>\n",
       "      <td>male</td>\n",
       "      <td>1</td>\n",
       "    </tr>\n",
       "    <tr>\n",
       "      <th>935</th>\n",
       "      <td>Klasen, Miss Gertrud Emilia</td>\n",
       "      <td>3rd</td>\n",
       "      <td>1.50</td>\n",
       "      <td>female</td>\n",
       "      <td>0</td>\n",
       "    </tr>\n",
       "    <tr>\n",
       "      <th>1187</th>\n",
       "      <td>Sandstrom, Miss Beatrice Irene</td>\n",
       "      <td>3rd</td>\n",
       "      <td>1.50</td>\n",
       "      <td>female</td>\n",
       "      <td>0</td>\n",
       "    </tr>\n",
       "    <tr>\n",
       "      <th>626</th>\n",
       "      <td>Andersson, Miss Ellis Anna Maria</td>\n",
       "      <td>3rd</td>\n",
       "      <td>2.00</td>\n",
       "      <td>female</td>\n",
       "      <td>0</td>\n",
       "    </tr>\n",
       "    <tr>\n",
       "      <th>865</th>\n",
       "      <td>Hirvonen, Miss Hildur E</td>\n",
       "      <td>3rd</td>\n",
       "      <td>2.00</td>\n",
       "      <td>female</td>\n",
       "      <td>0</td>\n",
       "    </tr>\n",
       "    <tr>\n",
       "      <th>511</th>\n",
       "      <td>Navratil, Master Edmond Roger</td>\n",
       "      <td>2nd</td>\n",
       "      <td>2.00</td>\n",
       "      <td>male</td>\n",
       "      <td>1</td>\n",
       "    </tr>\n",
       "    <tr>\n",
       "      <th>1</th>\n",
       "      <td>Allison, Miss Helen Loraine</td>\n",
       "      <td>1st</td>\n",
       "      <td>2.00</td>\n",
       "      <td>female</td>\n",
       "      <td>0</td>\n",
       "    </tr>\n",
       "    <tr>\n",
       "      <th>536</th>\n",
       "      <td>Quick, Miss Phyllis May</td>\n",
       "      <td>2nd</td>\n",
       "      <td>2.00</td>\n",
       "      <td>female</td>\n",
       "      <td>1</td>\n",
       "    </tr>\n",
       "    <tr>\n",
       "      <th>490</th>\n",
       "      <td>Mallet, Master Andre</td>\n",
       "      <td>2nd</td>\n",
       "      <td>2.00</td>\n",
       "      <td>male</td>\n",
       "      <td>1</td>\n",
       "    </tr>\n",
       "    <tr>\n",
       "      <th>584</th>\n",
       "      <td>Wells, Master Ralph Lester</td>\n",
       "      <td>2nd</td>\n",
       "      <td>2.00</td>\n",
       "      <td>male</td>\n",
       "      <td>1</td>\n",
       "    </tr>\n",
       "    <tr>\n",
       "      <th>545</th>\n",
       "      <td>Richards, Master William Rowe</td>\n",
       "      <td>2nd</td>\n",
       "      <td>3.00</td>\n",
       "      <td>male</td>\n",
       "      <td>1</td>\n",
       "    </tr>\n",
       "    <tr>\n",
       "      <th>513</th>\n",
       "      <td>Navratil, Master Michel M</td>\n",
       "      <td>2nd</td>\n",
       "      <td>3.00</td>\n",
       "      <td>male</td>\n",
       "      <td>1</td>\n",
       "    </tr>\n",
       "    <tr>\n",
       "      <th>478</th>\n",
       "      <td>LaRoche, Miss Simonne</td>\n",
       "      <td>2nd</td>\n",
       "      <td>3.00</td>\n",
       "      <td>female</td>\n",
       "      <td>1</td>\n",
       "    </tr>\n",
       "    <tr>\n",
       "      <th>736</th>\n",
       "      <td>Coutts, Master Neville</td>\n",
       "      <td>3rd</td>\n",
       "      <td>3.00</td>\n",
       "      <td>male</td>\n",
       "      <td>1</td>\n",
       "    </tr>\n",
       "    <tr>\n",
       "      <th>643</th>\n",
       "      <td>Aspland, Master Edvin Rojj Felix</td>\n",
       "      <td>3rd</td>\n",
       "      <td>3.00</td>\n",
       "      <td>male</td>\n",
       "      <td>1</td>\n",
       "    </tr>\n",
       "    <tr>\n",
       "      <th>656</th>\n",
       "      <td>Baclini, Miss Eugenie</td>\n",
       "      <td>3rd</td>\n",
       "      <td>3.00</td>\n",
       "      <td>female</td>\n",
       "      <td>1</td>\n",
       "    </tr>\n",
       "    <tr>\n",
       "      <th>338</th>\n",
       "      <td>Becker, Miss Marion Louise</td>\n",
       "      <td>2nd</td>\n",
       "      <td>4.00</td>\n",
       "      <td>female</td>\n",
       "      <td>1</td>\n",
       "    </tr>\n",
       "    <tr>\n",
       "      <th>86</th>\n",
       "      <td>Dodge, Master Washington</td>\n",
       "      <td>1st</td>\n",
       "      <td>4.00</td>\n",
       "      <td>male</td>\n",
       "      <td>1</td>\n",
       "    </tr>\n",
       "    <tr>\n",
       "      <th>932</th>\n",
       "      <td>Kink, Miss Louise Gretchen</td>\n",
       "      <td>3rd</td>\n",
       "      <td>4.00</td>\n",
       "      <td>female</td>\n",
       "      <td>1</td>\n",
       "    </tr>\n",
       "    <tr>\n",
       "      <th>913</th>\n",
       "      <td>Karun, Miss Anna Mary</td>\n",
       "      <td>3rd</td>\n",
       "      <td>4.00</td>\n",
       "      <td>female</td>\n",
       "      <td>1</td>\n",
       "    </tr>\n",
       "    <tr>\n",
       "      <th>...</th>\n",
       "      <td>...</td>\n",
       "      <td>...</td>\n",
       "      <td>...</td>\n",
       "      <td>...</td>\n",
       "      <td>...</td>\n",
       "    </tr>\n",
       "    <tr>\n",
       "      <th>1250</th>\n",
       "      <td>Thorneycroft, Mrs Percival</td>\n",
       "      <td>3rd</td>\n",
       "      <td>NaN</td>\n",
       "      <td>female</td>\n",
       "      <td>1</td>\n",
       "    </tr>\n",
       "    <tr>\n",
       "      <th>1251</th>\n",
       "      <td>Tikkanen, Mr Juho</td>\n",
       "      <td>3rd</td>\n",
       "      <td>NaN</td>\n",
       "      <td>male</td>\n",
       "      <td>0</td>\n",
       "    </tr>\n",
       "    <tr>\n",
       "      <th>1252</th>\n",
       "      <td>Tobin, Mr Roger</td>\n",
       "      <td>3rd</td>\n",
       "      <td>NaN</td>\n",
       "      <td>male</td>\n",
       "      <td>0</td>\n",
       "    </tr>\n",
       "    <tr>\n",
       "      <th>1253</th>\n",
       "      <td>Todoroff, Mr Lalio</td>\n",
       "      <td>3rd</td>\n",
       "      <td>NaN</td>\n",
       "      <td>male</td>\n",
       "      <td>0</td>\n",
       "    </tr>\n",
       "    <tr>\n",
       "      <th>1254</th>\n",
       "      <td>Toerber, Mr Ernest William</td>\n",
       "      <td>3rd</td>\n",
       "      <td>NaN</td>\n",
       "      <td>male</td>\n",
       "      <td>0</td>\n",
       "    </tr>\n",
       "    <tr>\n",
       "      <th>1255</th>\n",
       "      <td>Tomlin, Mr Ernest Portage</td>\n",
       "      <td>3rd</td>\n",
       "      <td>NaN</td>\n",
       "      <td>male</td>\n",
       "      <td>0</td>\n",
       "    </tr>\n",
       "    <tr>\n",
       "      <th>1256</th>\n",
       "      <td>Torfa, Mr Assad</td>\n",
       "      <td>3rd</td>\n",
       "      <td>NaN</td>\n",
       "      <td>male</td>\n",
       "      <td>0</td>\n",
       "    </tr>\n",
       "    <tr>\n",
       "      <th>1258</th>\n",
       "      <td>Touma (Thomas), Mrs Darwin</td>\n",
       "      <td>3rd</td>\n",
       "      <td>NaN</td>\n",
       "      <td>female</td>\n",
       "      <td>0</td>\n",
       "    </tr>\n",
       "    <tr>\n",
       "      <th>1259</th>\n",
       "      <td>Touma (Thomas), Master George</td>\n",
       "      <td>3rd</td>\n",
       "      <td>NaN</td>\n",
       "      <td>male</td>\n",
       "      <td>0</td>\n",
       "    </tr>\n",
       "    <tr>\n",
       "      <th>1260</th>\n",
       "      <td>Touma (Thomas), Miss Hannah</td>\n",
       "      <td>3rd</td>\n",
       "      <td>NaN</td>\n",
       "      <td>female</td>\n",
       "      <td>0</td>\n",
       "    </tr>\n",
       "    <tr>\n",
       "      <th>1261</th>\n",
       "      <td>Turcin, Mr Stefan</td>\n",
       "      <td>3rd</td>\n",
       "      <td>NaN</td>\n",
       "      <td>male</td>\n",
       "      <td>0</td>\n",
       "    </tr>\n",
       "    <tr>\n",
       "      <th>1264</th>\n",
       "      <td>Uzelas, Mr Joso</td>\n",
       "      <td>3rd</td>\n",
       "      <td>NaN</td>\n",
       "      <td>male</td>\n",
       "      <td>0</td>\n",
       "    </tr>\n",
       "    <tr>\n",
       "      <th>1265</th>\n",
       "      <td>Van Billiard, Mr Austin Blyler</td>\n",
       "      <td>3rd</td>\n",
       "      <td>NaN</td>\n",
       "      <td>male</td>\n",
       "      <td>0</td>\n",
       "    </tr>\n",
       "    <tr>\n",
       "      <th>1266</th>\n",
       "      <td>Van Billiard, Master James William</td>\n",
       "      <td>3rd</td>\n",
       "      <td>NaN</td>\n",
       "      <td>male</td>\n",
       "      <td>0</td>\n",
       "    </tr>\n",
       "    <tr>\n",
       "      <th>1267</th>\n",
       "      <td>Van Billiard, Master Walter John</td>\n",
       "      <td>3rd</td>\n",
       "      <td>NaN</td>\n",
       "      <td>male</td>\n",
       "      <td>0</td>\n",
       "    </tr>\n",
       "    <tr>\n",
       "      <th>1279</th>\n",
       "      <td>Vassilios, Mr Catavelas</td>\n",
       "      <td>3rd</td>\n",
       "      <td>NaN</td>\n",
       "      <td>male</td>\n",
       "      <td>0</td>\n",
       "    </tr>\n",
       "    <tr>\n",
       "      <th>1284</th>\n",
       "      <td>Ware, Mr Frederick</td>\n",
       "      <td>3rd</td>\n",
       "      <td>NaN</td>\n",
       "      <td>male</td>\n",
       "      <td>0</td>\n",
       "    </tr>\n",
       "    <tr>\n",
       "      <th>1285</th>\n",
       "      <td>Warren, Mr Charles William</td>\n",
       "      <td>3rd</td>\n",
       "      <td>NaN</td>\n",
       "      <td>male</td>\n",
       "      <td>0</td>\n",
       "    </tr>\n",
       "    <tr>\n",
       "      <th>1286</th>\n",
       "      <td>Wazli, Mr Yousif</td>\n",
       "      <td>3rd</td>\n",
       "      <td>NaN</td>\n",
       "      <td>male</td>\n",
       "      <td>0</td>\n",
       "    </tr>\n",
       "    <tr>\n",
       "      <th>1287</th>\n",
       "      <td>Webber, Mr James</td>\n",
       "      <td>3rd</td>\n",
       "      <td>NaN</td>\n",
       "      <td>male</td>\n",
       "      <td>0</td>\n",
       "    </tr>\n",
       "    <tr>\n",
       "      <th>1288</th>\n",
       "      <td>Wennerstrom, Mr August Edvard</td>\n",
       "      <td>3rd</td>\n",
       "      <td>NaN</td>\n",
       "      <td>male</td>\n",
       "      <td>1</td>\n",
       "    </tr>\n",
       "    <tr>\n",
       "      <th>1289</th>\n",
       "      <td>Wenzel, Mr Linhart</td>\n",
       "      <td>3rd</td>\n",
       "      <td>NaN</td>\n",
       "      <td>male</td>\n",
       "      <td>0</td>\n",
       "    </tr>\n",
       "    <tr>\n",
       "      <th>1293</th>\n",
       "      <td>Willer, Mr Aaron</td>\n",
       "      <td>3rd</td>\n",
       "      <td>NaN</td>\n",
       "      <td>male</td>\n",
       "      <td>0</td>\n",
       "    </tr>\n",
       "    <tr>\n",
       "      <th>1294</th>\n",
       "      <td>Willey, Mr Edward</td>\n",
       "      <td>3rd</td>\n",
       "      <td>NaN</td>\n",
       "      <td>male</td>\n",
       "      <td>0</td>\n",
       "    </tr>\n",
       "    <tr>\n",
       "      <th>1295</th>\n",
       "      <td>Williams, Mr Howard Hugh</td>\n",
       "      <td>3rd</td>\n",
       "      <td>NaN</td>\n",
       "      <td>male</td>\n",
       "      <td>0</td>\n",
       "    </tr>\n",
       "    <tr>\n",
       "      <th>1299</th>\n",
       "      <td>Wiseman, Mr Phillippe</td>\n",
       "      <td>3rd</td>\n",
       "      <td>NaN</td>\n",
       "      <td>male</td>\n",
       "      <td>0</td>\n",
       "    </tr>\n",
       "    <tr>\n",
       "      <th>1301</th>\n",
       "      <td>Yalsevac, Mr Ivan</td>\n",
       "      <td>3rd</td>\n",
       "      <td>NaN</td>\n",
       "      <td>male</td>\n",
       "      <td>1</td>\n",
       "    </tr>\n",
       "    <tr>\n",
       "      <th>1304</th>\n",
       "      <td>Youssef, Mr Gerios</td>\n",
       "      <td>3rd</td>\n",
       "      <td>NaN</td>\n",
       "      <td>male</td>\n",
       "      <td>0</td>\n",
       "    </tr>\n",
       "    <tr>\n",
       "      <th>1305</th>\n",
       "      <td>Zabour, Miss Hileni</td>\n",
       "      <td>3rd</td>\n",
       "      <td>NaN</td>\n",
       "      <td>female</td>\n",
       "      <td>0</td>\n",
       "    </tr>\n",
       "    <tr>\n",
       "      <th>1306</th>\n",
       "      <td>Zabour, Miss Tamini</td>\n",
       "      <td>3rd</td>\n",
       "      <td>NaN</td>\n",
       "      <td>female</td>\n",
       "      <td>0</td>\n",
       "    </tr>\n",
       "  </tbody>\n",
       "</table>\n",
       "<p>1312 rows × 5 columns</p>\n",
       "</div>"
      ],
      "text/plain": [
       "                                        Name PClass   Age     Sex  Survived\n",
       "762   Dean, Miss Elizabeth Gladys (Millvena)    3rd  0.17  female         1\n",
       "750   Danbom, Master Gilbert Sigvard Emanuel    3rd  0.33    male         0\n",
       "543           Richards, Master George Sidney    2nd  0.80    male         1\n",
       "615                       Aks, Master Philip    3rd  0.83    male         1\n",
       "358             Caldwell, Master Alden Gates    2nd  0.83    male         1\n",
       "4              Allison, Master Hudson Trevor    1st  0.92    male         1\n",
       "339                 Becker, Master Richard F    2nd  1.00    male         1\n",
       "477                     LaRoche, Miss Louise    2nd  1.00  female         1\n",
       "892              Johnson, Miss Eleanor Ileen    3rd  1.00  female         1\n",
       "425                 Hamalainen, Master Viljo    2nd  1.00    male         1\n",
       "761                Dean, Master Bertram Vere    3rd  1.00    male         1\n",
       "935              Klasen, Miss Gertrud Emilia    3rd  1.50  female         0\n",
       "1187          Sandstrom, Miss Beatrice Irene    3rd  1.50  female         0\n",
       "626         Andersson, Miss Ellis Anna Maria    3rd  2.00  female         0\n",
       "865                  Hirvonen, Miss Hildur E    3rd  2.00  female         0\n",
       "511            Navratil, Master Edmond Roger    2nd  2.00    male         1\n",
       "1                Allison, Miss Helen Loraine    1st  2.00  female         0\n",
       "536                  Quick, Miss Phyllis May    2nd  2.00  female         1\n",
       "490                     Mallet, Master Andre    2nd  2.00    male         1\n",
       "584               Wells, Master Ralph Lester    2nd  2.00    male         1\n",
       "545            Richards, Master William Rowe    2nd  3.00    male         1\n",
       "513                Navratil, Master Michel M    2nd  3.00    male         1\n",
       "478                    LaRoche, Miss Simonne    2nd  3.00  female         1\n",
       "736                   Coutts, Master Neville    3rd  3.00    male         1\n",
       "643         Aspland, Master Edvin Rojj Felix    3rd  3.00    male         1\n",
       "656                    Baclini, Miss Eugenie    3rd  3.00  female         1\n",
       "338               Becker, Miss Marion Louise    2nd  4.00  female         1\n",
       "86                  Dodge, Master Washington    1st  4.00    male         1\n",
       "932               Kink, Miss Louise Gretchen    3rd  4.00  female         1\n",
       "913                    Karun, Miss Anna Mary    3rd  4.00  female         1\n",
       "...                                      ...    ...   ...     ...       ...\n",
       "1250              Thorneycroft, Mrs Percival    3rd   NaN  female         1\n",
       "1251                       Tikkanen, Mr Juho    3rd   NaN    male         0\n",
       "1252                         Tobin, Mr Roger    3rd   NaN    male         0\n",
       "1253                      Todoroff, Mr Lalio    3rd   NaN    male         0\n",
       "1254              Toerber, Mr Ernest William    3rd   NaN    male         0\n",
       "1255               Tomlin, Mr Ernest Portage    3rd   NaN    male         0\n",
       "1256                         Torfa, Mr Assad    3rd   NaN    male         0\n",
       "1258              Touma (Thomas), Mrs Darwin    3rd   NaN  female         0\n",
       "1259           Touma (Thomas), Master George    3rd   NaN    male         0\n",
       "1260             Touma (Thomas), Miss Hannah    3rd   NaN  female         0\n",
       "1261                       Turcin, Mr Stefan    3rd   NaN    male         0\n",
       "1264                         Uzelas, Mr Joso    3rd   NaN    male         0\n",
       "1265          Van Billiard, Mr Austin Blyler    3rd   NaN    male         0\n",
       "1266      Van Billiard, Master James William    3rd   NaN    male         0\n",
       "1267        Van Billiard, Master Walter John    3rd   NaN    male         0\n",
       "1279                 Vassilios, Mr Catavelas    3rd   NaN    male         0\n",
       "1284                      Ware, Mr Frederick    3rd   NaN    male         0\n",
       "1285              Warren, Mr Charles William    3rd   NaN    male         0\n",
       "1286                        Wazli, Mr Yousif    3rd   NaN    male         0\n",
       "1287                        Webber, Mr James    3rd   NaN    male         0\n",
       "1288           Wennerstrom, Mr August Edvard    3rd   NaN    male         1\n",
       "1289                      Wenzel, Mr Linhart    3rd   NaN    male         0\n",
       "1293                        Willer, Mr Aaron    3rd   NaN    male         0\n",
       "1294                       Willey, Mr Edward    3rd   NaN    male         0\n",
       "1295                Williams, Mr Howard Hugh    3rd   NaN    male         0\n",
       "1299                   Wiseman, Mr Phillippe    3rd   NaN    male         0\n",
       "1301                       Yalsevac, Mr Ivan    3rd   NaN    male         1\n",
       "1304                      Youssef, Mr Gerios    3rd   NaN    male         0\n",
       "1305                     Zabour, Miss Hileni    3rd   NaN  female         0\n",
       "1306                     Zabour, Miss Tamini    3rd   NaN  female         0\n",
       "\n",
       "[1312 rows x 5 columns]"
      ]
     },
     "execution_count": 16,
     "metadata": {},
     "output_type": "execute_result"
    }
   ],
   "source": [
    "# Simple Sorting of data according to a column name, say 'Age', in ascending order\n",
    "data.sort_values(by='Age', ascending=True)"
   ]
  },
  {
   "cell_type": "markdown",
   "metadata": {
    "slideshow": {
     "slide_type": "subslide"
    }
   },
   "source": [
    "**Missing values**\n",
    "\n",
    "Missing values affect our analysis on the data. For convenience, we drop all rows with any form of missing data. In the real world, there are techniques to deal with this issue."
   ]
  },
  {
   "cell_type": "code",
   "execution_count": 17,
   "metadata": {
    "ExecuteTime": {
     "end_time": "2019-06-02T17:44:47.448346Z",
     "start_time": "2019-06-02T17:44:47.429359Z"
    }
   },
   "outputs": [],
   "source": [
    "data = data.dropna()"
   ]
  },
  {
   "cell_type": "markdown",
   "metadata": {
    "slideshow": {
     "slide_type": "subslide"
    }
   },
   "source": [
    "## 3.3 Selection of Data\n",
    "\n",
    "To get meaningful insights from the data, we try to **focus** only on a specific region of interest, achieved by extracting a smaller fraction from the big dataset. This is called subsetting. Selecting this subset requires us to select/specify that region via 3 entities, in order of importance: `column`, `row`, `data point`."
   ]
  },
  {
   "cell_type": "markdown",
   "metadata": {
    "slideshow": {
     "slide_type": "subslide"
    }
   },
   "source": [
    "### Row selection by index\n",
    "A more meaningful row selection method is by *'Boolean Masking'*"
   ]
  },
  {
   "cell_type": "code",
   "execution_count": 18,
   "metadata": {
    "ExecuteTime": {
     "end_time": "2019-06-02T17:44:47.835028Z",
     "start_time": "2019-06-02T17:44:47.809056Z"
    }
   },
   "outputs": [
    {
     "data": {
      "text/html": [
       "<div>\n",
       "<style>\n",
       "    .dataframe thead tr:only-child th {\n",
       "        text-align: right;\n",
       "    }\n",
       "\n",
       "    .dataframe thead th {\n",
       "        text-align: left;\n",
       "    }\n",
       "\n",
       "    .dataframe tbody tr th {\n",
       "        vertical-align: top;\n",
       "    }\n",
       "</style>\n",
       "<table border=\"1\" class=\"dataframe\">\n",
       "  <thead>\n",
       "    <tr style=\"text-align: right;\">\n",
       "      <th></th>\n",
       "      <th>Name</th>\n",
       "      <th>PClass</th>\n",
       "      <th>Age</th>\n",
       "      <th>Sex</th>\n",
       "      <th>Survived</th>\n",
       "    </tr>\n",
       "  </thead>\n",
       "  <tbody>\n",
       "    <tr>\n",
       "      <th>0</th>\n",
       "      <td>Allen, Miss Elisabeth Walton</td>\n",
       "      <td>1st</td>\n",
       "      <td>29.0</td>\n",
       "      <td>female</td>\n",
       "      <td>1</td>\n",
       "    </tr>\n",
       "    <tr>\n",
       "      <th>1</th>\n",
       "      <td>Allison, Miss Helen Loraine</td>\n",
       "      <td>1st</td>\n",
       "      <td>2.0</td>\n",
       "      <td>female</td>\n",
       "      <td>0</td>\n",
       "    </tr>\n",
       "    <tr>\n",
       "      <th>2</th>\n",
       "      <td>Allison, Mr Hudson Joshua Creighton</td>\n",
       "      <td>1st</td>\n",
       "      <td>30.0</td>\n",
       "      <td>male</td>\n",
       "      <td>0</td>\n",
       "    </tr>\n",
       "  </tbody>\n",
       "</table>\n",
       "</div>"
      ],
      "text/plain": [
       "                                  Name PClass   Age     Sex  Survived\n",
       "0         Allen, Miss Elisabeth Walton    1st  29.0  female         1\n",
       "1          Allison, Miss Helen Loraine    1st   2.0  female         0\n",
       "2  Allison, Mr Hudson Joshua Creighton    1st  30.0    male         0"
      ]
     },
     "execution_count": 18,
     "metadata": {},
     "output_type": "execute_result"
    }
   ],
   "source": [
    "data[0:3]"
   ]
  },
  {
   "cell_type": "markdown",
   "metadata": {
    "slideshow": {
     "slide_type": "subslide"
    }
   },
   "source": [
    "### Data point selection by position index\n",
    "\n",
    "`.iloc[]` is the primary attribute for selection by absolute position along index and columns.\n",
    "Here 'i' in 'iloc' means 'implicit' indexing"
   ]
  },
  {
   "cell_type": "code",
   "execution_count": 19,
   "metadata": {
    "ExecuteTime": {
     "end_time": "2019-06-02T17:44:48.161008Z",
     "start_time": "2019-06-02T17:44:48.144002Z"
    }
   },
   "outputs": [
    {
     "data": {
      "text/html": [
       "<div>\n",
       "<style>\n",
       "    .dataframe thead tr:only-child th {\n",
       "        text-align: right;\n",
       "    }\n",
       "\n",
       "    .dataframe thead th {\n",
       "        text-align: left;\n",
       "    }\n",
       "\n",
       "    .dataframe tbody tr th {\n",
       "        vertical-align: top;\n",
       "    }\n",
       "</style>\n",
       "<table border=\"1\" class=\"dataframe\">\n",
       "  <thead>\n",
       "    <tr style=\"text-align: right;\">\n",
       "      <th></th>\n",
       "      <th>Name</th>\n",
       "      <th>PClass</th>\n",
       "      <th>Age</th>\n",
       "    </tr>\n",
       "  </thead>\n",
       "  <tbody>\n",
       "    <tr>\n",
       "      <th>2</th>\n",
       "      <td>Allison, Mr Hudson Joshua Creighton</td>\n",
       "      <td>1st</td>\n",
       "      <td>30.00</td>\n",
       "    </tr>\n",
       "    <tr>\n",
       "      <th>3</th>\n",
       "      <td>Allison, Mrs Hudson JC (Bessie Waldo Daniels)</td>\n",
       "      <td>1st</td>\n",
       "      <td>25.00</td>\n",
       "    </tr>\n",
       "    <tr>\n",
       "      <th>4</th>\n",
       "      <td>Allison, Master Hudson Trevor</td>\n",
       "      <td>1st</td>\n",
       "      <td>0.92</td>\n",
       "    </tr>\n",
       "  </tbody>\n",
       "</table>\n",
       "</div>"
      ],
      "text/plain": [
       "                                            Name PClass    Age\n",
       "2            Allison, Mr Hudson Joshua Creighton    1st  30.00\n",
       "3  Allison, Mrs Hudson JC (Bessie Waldo Daniels)    1st  25.00\n",
       "4                  Allison, Master Hudson Trevor    1st   0.92"
      ]
     },
     "execution_count": 19,
     "metadata": {},
     "output_type": "execute_result"
    }
   ],
   "source": [
    "data.iloc[2:5, 0:3]"
   ]
  },
  {
   "cell_type": "markdown",
   "metadata": {},
   "source": [
    "Compare this against the output of `data.head()`. Do you see any resemblance? What happened here?"
   ]
  },
  {
   "cell_type": "markdown",
   "metadata": {
    "slideshow": {
     "slide_type": "subslide"
    }
   },
   "source": [
    "### Column selection"
   ]
  },
  {
   "cell_type": "code",
   "execution_count": 20,
   "metadata": {
    "ExecuteTime": {
     "end_time": "2019-06-02T17:44:48.599938Z",
     "start_time": "2019-06-02T17:44:48.581947Z"
    }
   },
   "outputs": [
    {
     "data": {
      "text/plain": [
       "0                           Allen, Miss Elisabeth Walton\n",
       "1                            Allison, Miss Helen Loraine\n",
       "2                    Allison, Mr Hudson Joshua Creighton\n",
       "3          Allison, Mrs Hudson JC (Bessie Waldo Daniels)\n",
       "4                          Allison, Master Hudson Trevor\n",
       "5                                     Anderson, Mr Harry\n",
       "6                       Andrews, Miss Kornelia Theodosia\n",
       "7                                 Andrews, Mr Thomas, jr\n",
       "8           Appleton, Mrs Edward Dale (Charlotte Lamson)\n",
       "9                                 Artagaveytia, Mr Ramon\n",
       "10                             Astor, Colonel John Jacob\n",
       "11      Astor, Mrs John Jacob (Madeleine Talmadge Force)\n",
       "15        Baxter, Mrs James (Helene DeLaudeniere Chaput)\n",
       "16                               Baxter, Mr Quigg Edmond\n",
       "17                                   Beattie, Mr Thomson\n",
       "18                          Beckwith, Mr Richard Leonard\n",
       "19       Beckwith, Mrs Richard Leonard (Sallie Monypeny)\n",
       "20                                  Behr, Mr Karl Howell\n",
       "21                                    Birnbaum, Mr Jakob\n",
       "22                                Bishop, Mr Dickinson H\n",
       "23                Bishop, Mrs Dickinson H (Helen Walton)\n",
       "24               Bjornstrm-Steffansson, Mr Mauritz Hakan\n",
       "25                           Blackwell, Mr Stephen Weart\n",
       "26                                       Blank, Mr Henry\n",
       "27                                Bonnell, Miss Caroline\n",
       "28                               Bonnell, Miss Elizabeth\n",
       "30                               Bowen, Miss Grace Scott\n",
       "31                            Bowerman, Miss Elsie Edith\n",
       "33                                Brady, Mr John Bertram\n",
       "34                                     Brandeis, Mr Emil\n",
       "                              ...                       \n",
       "1263                                 Turkula, Mrs Hedvig\n",
       "1268                        Van der Planke, Miss Augusta\n",
       "1269                            Van der Planke, Mr Jules\n",
       "1270                           Van der Planke, Mrs Jules\n",
       "1271                             Van der Planke, Mr Leon\n",
       "1272                         Van der Steen, Mr Leo Peter\n",
       "1273                        Van de Velde, Mr John Joseph\n",
       "1274                        Vandewalle, Mr Nestor Cyriel\n",
       "1275                            Van Impe, Miss Catharine\n",
       "1276                          Van Impe, Mr Jean Baptiste\n",
       "1277                         Van Impe, Mrs Jean Baptiste\n",
       "1278                                 Vartunian, Mr David\n",
       "1280                               Vendel, Mr Olof Wdvin\n",
       "1281                               Vereruysse, Mr Victor\n",
       "1282                 Vestrom, Miss Hulda Amanda Adolfina\n",
       "1283                                      Vonk, Mr Jenko\n",
       "1290                          Widegren, Mr Charles Peter\n",
       "1291                            Wiklund, Mr Jacob Alfred\n",
       "1292                                   Wilkes, Mrs Ellen\n",
       "1296                                 Williams, Mr Leslie\n",
       "1297                                  Windelov, Mr Einar\n",
       "1298                                     Wirz, Mr Albert\n",
       "1300                             Wittevrongel, Mr Camiel\n",
       "1302                                  Yasbeck, Mr Antoni\n",
       "1303                                 Yasbeck, Mrs Antoni\n",
       "1307                                  Zakarian, Mr Artun\n",
       "1308                              Zakarian, Mr Maprieder\n",
       "1309                                    Zenni, Mr Philip\n",
       "1310                                    Lievens, Mr Rene\n",
       "1311                                      Zimmerman, Leo\n",
       "Name: Name, Length: 756, dtype: object"
      ]
     },
     "execution_count": 20,
     "metadata": {},
     "output_type": "execute_result"
    }
   ],
   "source": [
    "data['Name']"
   ]
  },
  {
   "cell_type": "markdown",
   "metadata": {
    "slideshow": {
     "slide_type": "slide"
    }
   },
   "source": [
    "# 4. Matplotlib"
   ]
  },
  {
   "cell_type": "code",
   "execution_count": 21,
   "metadata": {
    "ExecuteTime": {
     "end_time": "2019-06-02T17:44:49.214809Z",
     "start_time": "2019-06-02T17:44:48.840971Z"
    },
    "slideshow": {
     "slide_type": "fragment"
    }
   },
   "outputs": [],
   "source": [
    "%matplotlib inline\n",
    "import matplotlib.pyplot as plt"
   ]
  },
  {
   "cell_type": "markdown",
   "metadata": {
    "slideshow": {
     "slide_type": "subslide"
    }
   },
   "source": [
    "## 4.1. Importance of visualizations\n",
    "Suppose we create 1000 random profit values to illustrate net profits of a company in a period of 1000 days"
   ]
  },
  {
   "cell_type": "code",
   "execution_count": 22,
   "metadata": {
    "ExecuteTime": {
     "end_time": "2019-06-02T17:44:50.468236Z",
     "start_time": "2019-06-02T17:44:50.404270Z"
    },
    "slideshow": {
     "slide_type": "fragment"
    }
   },
   "outputs": [
    {
     "name": "stdout",
     "output_type": "stream",
     "text": [
      "2015-01-01     1.908292\n",
      "2015-01-02     1.917308\n",
      "2015-01-03     4.275049\n",
      "2015-01-04     5.376847\n",
      "2015-01-05     6.836136\n",
      "2015-01-06     7.271634\n",
      "2015-01-07     8.332955\n",
      "2015-01-08     9.482515\n",
      "2015-01-09    10.669445\n",
      "2015-01-10    12.429326\n",
      "Freq: D, dtype: float64\n"
     ]
    }
   ],
   "source": [
    "# Create a Series\n",
    "s = pd.Series(np.random.randn(1000), index=pd.date_range('1/1/2015', periods=1000))\n",
    "s = s.cumsum()  # cumulative sum\n",
    "print (s.head(10))"
   ]
  },
  {
   "cell_type": "markdown",
   "metadata": {
    "slideshow": {
     "slide_type": "subslide"
    }
   },
   "source": [
    "What difference does it make if we create a graphical representation of it?"
   ]
  },
  {
   "cell_type": "code",
   "execution_count": 23,
   "metadata": {
    "ExecuteTime": {
     "end_time": "2019-06-02T17:44:51.794911Z",
     "start_time": "2019-06-02T17:44:51.308116Z"
    },
    "slideshow": {
     "slide_type": "fragment"
    }
   },
   "outputs": [
    {
     "data": {
      "text/plain": [
       "<matplotlib.axes._subplots.AxesSubplot at 0x2012c45a7b8>"
      ]
     },
     "execution_count": 23,
     "metadata": {},
     "output_type": "execute_result"
    },
    {
     "data": {
      "image/png": "[encoded data removed]",
      "text/plain": [
       "<matplotlib.figure.Figure at 0x20129137940>"
      ]
     },
     "metadata": {},
     "output_type": "display_data"
    }
   ],
   "source": [
    "# draw a curve from the defined Series\n",
    "s.plot()"
   ]
  },
  {
   "cell_type": "markdown",
   "metadata": {
    "slideshow": {
     "slide_type": "subslide"
    }
   },
   "source": [
    "## 4.2. Continuous vs Discrete\n",
    "\n",
    "+ Continuous: Age, Length, Area (sqft), pH\n",
    "+ Discrete: LastName, Gender, Country, Postcode\n",
    "\n",
    "**Exercise:** Imagine you are an officer in Singapore Department of Statistics and you are compiling a report about the demography of Singapore. Based on the continuous and discrete variables mentioned in the examples above, what kind of questions will be tickling your mind?"
   ]
  },
  {
   "cell_type": "markdown",
   "metadata": {
    "slideshow": {
     "slide_type": "subslide"
    }
   },
   "source": [
    "## 4.3. 1D plots"
   ]
  },
  {
   "cell_type": "markdown",
   "metadata": {
    "slideshow": {
     "slide_type": "subslide"
    }
   },
   "source": [
    "**Histogram**"
   ]
  },
  {
   "cell_type": "code",
   "execution_count": 24,
   "metadata": {
    "ExecuteTime": {
     "end_time": "2019-06-02T17:44:53.251857Z",
     "start_time": "2019-06-02T17:44:52.926532Z"
    },
    "scrolled": true,
    "slideshow": {
     "slide_type": "fragment"
    }
   },
   "outputs": [
    {
     "data": {
      "text/plain": [
       "<matplotlib.text.Text at 0x2012c86c630>"
      ]
     },
     "execution_count": 24,
     "metadata": {},
     "output_type": "execute_result"
    },
    {
     "data": {
      "image/png": "[encoded data removed]",
      "text/plain": [
       "<matplotlib.figure.Figure at 0x2012c7ea198>"
      ]
     },
     "metadata": {},
     "output_type": "display_data"
    }
   ],
   "source": [
    "# Create a plot figure (empty canvas)\n",
    "plt.figure()\n",
    "\n",
    "# Construct histogram from continuous data\n",
    "data['Age'].hist(bins=20, color = 'orange')  # <-- try changing these\n",
    "\n",
    "# Labeling the figure\n",
    "plt.xlabel('Age')\n",
    "plt.ylabel('Frequency')\n",
    "plt.title('Age of Titanic Passengers')"
   ]
  },
  {
   "cell_type": "markdown",
   "metadata": {
    "slideshow": {
     "slide_type": "fragment"
    }
   },
   "source": [
    "What inference can you draw from this histogram?"
   ]
  },
  {
   "cell_type": "markdown",
   "metadata": {
    "slideshow": {
     "slide_type": "subslide"
    }
   },
   "source": [
    "## 4.4. 2D plots"
   ]
  },
  {
   "cell_type": "markdown",
   "metadata": {
    "slideshow": {
     "slide_type": "fragment"
    }
   },
   "source": [
    "**Scatter plot**\n",
    "\n",
    "Plot values from two variables along two axes to identify possible relationships between them"
   ]
  },
  {
   "cell_type": "code",
   "execution_count": 25,
   "metadata": {
    "ExecuteTime": {
     "end_time": "2019-06-02T17:44:54.707326Z",
     "start_time": "2019-06-02T17:44:54.701327Z"
    },
    "slideshow": {
     "slide_type": "skip"
    }
   },
   "outputs": [],
   "source": [
    "x = np.arange(5,10,0.05) + 0.5 * np.random.randn(100)\n",
    "y = np.arange(0,10,0.1)  + 0.2 * np.random.randn(100)"
   ]
  },
  {
   "cell_type": "code",
   "execution_count": 26,
   "metadata": {
    "ExecuteTime": {
     "end_time": "2019-06-02T17:44:55.184639Z",
     "start_time": "2019-06-02T17:44:54.837249Z"
    },
    "slideshow": {
     "slide_type": "fragment"
    }
   },
   "outputs": [
    {
     "data": {
      "text/plain": [
       "<matplotlib.collections.PathCollection at 0x2012c99dc18>"
      ]
     },
     "execution_count": 26,
     "metadata": {},
     "output_type": "execute_result"
    },
    {
     "data": {
      "image/png": "[encoded data removed]",
      "text/plain": [
       "<matplotlib.figure.Figure at 0x2012c7eac50>"
      ]
     },
     "metadata": {},
     "output_type": "display_data"
    }
   ],
   "source": [
    "plt.figure()\n",
    "plt.scatter(x = x,y = y)"
   ]
  },
  {
   "cell_type": "code",
   "execution_count": null,
   "metadata": {},
   "outputs": [],
   "source": []
  },
  {
   "cell_type": "code",
   "execution_count": null,
   "metadata": {},
   "outputs": [],
   "source": []
  }
 ],
 "metadata": {
  "celltoolbar": "Slideshow",
  "colab": {
   "name": "basic_python.ipynb",
   "provenance": [],
   "toc_visible": true,
   "version": "0.3.2"
  },
  "kernelspec": {
   "display_name": "Python3",
   "language": "python",
   "name": "python3"
  },
  "language_info": {
   "codemirror_mode": {
    "name": "ipython",
    "version": 3
   },
   "file_extension": ".py",
   "mimetype": "text/x-python",
   "name": "python",
   "nbconvert_exporter": "python",
   "pygments_lexer": "ipython3",
   "version": "3.6.1"
  },
  "toc": {
   "base_numbering": 1,
   "nav_menu": {},
   "number_sections": true,
   "sideBar": true,
   "skip_h1_title": false,
   "title_cell": "Table of Contents",
   "title_sidebar": "Contents",
   "toc_cell": false,
   "toc_position": {},
   "toc_section_display": true,
   "toc_window_display": true
  }
 },
 "nbformat": 4,
 "nbformat_minor": 1
}
